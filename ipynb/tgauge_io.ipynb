{
 "metadata": {
  "language_info": {
   "codemirror_mode": {
    "name": "ipython",
    "version": 3
   },
   "file_extension": ".py",
   "mimetype": "text/x-python",
   "name": "python",
   "nbconvert_exporter": "python",
   "pygments_lexer": "ipython3",
   "version": "3.6.13-final"
  },
  "orig_nbformat": 2,
  "kernelspec": {
   "name": "python3",
   "display_name": "Python 3.6.13 64-bit ('venv')",
   "metadata": {
    "interpreter": {
     "hash": "694d7044cd14dba2a5e8971faec176255b8de89f056a73a532b54fd36e68e187"
    }
   }
  }
 },
 "nbformat": 4,
 "nbformat_minor": 2,
 "cells": [
  {
   "source": [
    "## Tide gauge data processing\n",
    "#### 1. Convert tide stations data (e.g., .txt file from Marine Department) to .nc file\n",
    "#### 3. Merge the tgauge stations data from Marine Department and Obversatory, respectively"
   ],
   "cell_type": "markdown",
   "metadata": {}
  },
  {
   "source": [
    "## Tide stations data (.txt) from **Marine Department**"
   ],
   "cell_type": "markdown",
   "metadata": {}
  },
  {
   "cell_type": "code",
   "execution_count": 2,
   "metadata": {},
   "outputs": [],
   "source": [
    "import sys\n",
    "sys.path.append(\"/Users/luo/OneDrive/SAR-Altimetry/sentinel3-altimetry-l2/utils\")\n",
    "from get_filesPath import get_filesPath\n",
    "import numpy as np\n",
    "import xarray as xr\n"
   ]
  },
  {
   "source": [
    "### Postition of the tide stations\n",
    "lat_cc, lon_cc = np.array([22.214]), np.array([114.022])  \n",
    "lat_klw, lon_klw = np.array([22.459]), np.array([114.361])  \n",
    "lat_kc, lon_kc = np.array([22.324]), np.array([114.122])  \n",
    "lat_mw, lon_mw = np.array([22.364]), np.array([114.071])  "
   ],
   "cell_type": "markdown",
   "metadata": {}
  },
  {
   "source": [
    "### Super-parameter"
   ],
   "cell_type": "markdown",
   "metadata": {}
  },
  {
   "cell_type": "code",
   "execution_count": 7,
   "metadata": {},
   "outputs": [
    {
     "output_type": "stream",
     "name": "stdout",
     "text": [
      "/Users/luo/OneDrive/SAR-Altimetry/sentinel3-altimetry-l2/data/tgauge_data/marine_department_hk/ma_wan(mw)\n"
     ]
    }
   ],
   "source": [
    "root_dir = os.path.dirname(os.getcwd())\n",
    "name = ['mw']\n",
    "long_name = 'Ma wan from Hong Kong Marine Department'\n",
    "lat, lon = np.array([22.364]), np.array([114.071])\n",
    "dir_md_tgauge = root_dir+'/data/tgauge_data/marine_department_hk/ma_wan(mw)'\n",
    "pat_to_save = dir_md_tgauge+'/tgauge_mw.nc'\n",
    "print(dir_md_tgauge)\n"
   ]
  },
  {
   "source": [
    "### Extract the time and sea level from the tige files"
   ],
   "cell_type": "markdown",
   "metadata": {}
  },
  {
   "cell_type": "code",
   "execution_count": 8,
   "metadata": {
    "tags": []
   },
   "outputs": [
    {
     "output_type": "stream",
     "name": "stdout",
     "text": [
      ".txt files number: 1827\n",
      "263088\n",
      "263088\n"
     ]
    }
   ],
   "source": [
    "## get files path name\n",
    "files_path = get_filesPath(dir_md_tgauge, key_words='.txt')\n",
    "files_path = sorted(files_path)\n",
    "print('.txt files number:', len(files_path))\n",
    "times = []\n",
    "sea_level = []\n",
    "for file_path in files_path:\n",
    "    f = open(file_path,\"r\")\n",
    "    text = f.read()\n",
    "    text = text.split('\\n')\n",
    "    for i in range(len(text)-1):\n",
    "        time_i = np.datetime64(text[i][0:4]+'-'+text[i][5:7]+'-'+text[i][8:19])\n",
    "        time_i_utc = time_i - np.timedelta64(8, 'h')\n",
    "        sea_level_i = float(text[i][20:])\n",
    "        times.append(time_i_utc)\n",
    "        sea_level.append(sea_level_i)\n",
    "\n",
    "print(len(times))\n",
    "print(len(sea_level))\n"
   ]
  },
  {
   "cell_type": "code",
   "execution_count": 82,
   "metadata": {},
   "outputs": [
    {
     "output_type": "execute_result",
     "data": {
      "text/plain": [
       "'31 23:50:00'"
      ]
     },
     "metadata": {},
     "execution_count": 82
    }
   ],
   "source": []
  },
  {
   "source": [
    "### Save as the xarray format"
   ],
   "cell_type": "markdown",
   "metadata": {}
  },
  {
   "cell_type": "code",
   "execution_count": 9,
   "metadata": {},
   "outputs": [
    {
     "output_type": "execute_result",
     "data": {
      "text/plain": [
       "<xarray.DataArray 'time' (time: 263088)>\n",
       "array(['2015-12-31T16:00:00.000000000', '2015-12-31T16:10:00.000000000',\n",
       "       '2015-12-31T16:20:00.000000000', ..., '2020-12-31T15:30:00.000000000',\n",
       "       '2020-12-31T15:40:00.000000000', '2020-12-31T15:50:00.000000000'],\n",
       "      dtype='datetime64[ns]')\n",
       "Coordinates:\n",
       "  * time     (time) datetime64[ns] 2015-12-31T16:00:00 ... 2020-12-31T15:50:00"
      ],
      "text/html": "<div><svg style=\"position: absolute; width: 0; height: 0; overflow: hidden\">\n<defs>\n<symbol id=\"icon-database\" viewBox=\"0 0 32 32\">\n<path d=\"M16 0c-8.837 0-16 2.239-16 5v4c0 2.761 7.163 5 16 5s16-2.239 16-5v-4c0-2.761-7.163-5-16-5z\"></path>\n<path d=\"M16 17c-8.837 0-16-2.239-16-5v6c0 2.761 7.163 5 16 5s16-2.239 16-5v-6c0 2.761-7.163 5-16 5z\"></path>\n<path d=\"M16 26c-8.837 0-16-2.239-16-5v6c0 2.761 7.163 5 16 5s16-2.239 16-5v-6c0 2.761-7.163 5-16 5z\"></path>\n</symbol>\n<symbol id=\"icon-file-text2\" viewBox=\"0 0 32 32\">\n<path d=\"M28.681 7.159c-0.694-0.947-1.662-2.053-2.724-3.116s-2.169-2.030-3.116-2.724c-1.612-1.182-2.393-1.319-2.841-1.319h-15.5c-1.378 0-2.5 1.121-2.5 2.5v27c0 1.378 1.122 2.5 2.5 2.5h23c1.378 0 2.5-1.122 2.5-2.5v-19.5c0-0.448-0.137-1.23-1.319-2.841zM24.543 5.457c0.959 0.959 1.712 1.825 2.268 2.543h-4.811v-4.811c0.718 0.556 1.584 1.309 2.543 2.268zM28 29.5c0 0.271-0.229 0.5-0.5 0.5h-23c-0.271 0-0.5-0.229-0.5-0.5v-27c0-0.271 0.229-0.5 0.5-0.5 0 0 15.499-0 15.5 0v7c0 0.552 0.448 1 1 1h7v19.5z\"></path>\n<path d=\"M23 26h-14c-0.552 0-1-0.448-1-1s0.448-1 1-1h14c0.552 0 1 0.448 1 1s-0.448 1-1 1z\"></path>\n<path d=\"M23 22h-14c-0.552 0-1-0.448-1-1s0.448-1 1-1h14c0.552 0 1 0.448 1 1s-0.448 1-1 1z\"></path>\n<path d=\"M23 18h-14c-0.552 0-1-0.448-1-1s0.448-1 1-1h14c0.552 0 1 0.448 1 1s-0.448 1-1 1z\"></path>\n</symbol>\n</defs>\n</svg>\n<style>/* CSS stylesheet for displaying xarray objects in jupyterlab.\n *\n */\n\n:root {\n  --xr-font-color0: var(--jp-content-font-color0, rgba(0, 0, 0, 1));\n  --xr-font-color2: var(--jp-content-font-color2, rgba(0, 0, 0, 0.54));\n  --xr-font-color3: var(--jp-content-font-color3, rgba(0, 0, 0, 0.38));\n  --xr-border-color: var(--jp-border-color2, #e0e0e0);\n  --xr-disabled-color: var(--jp-layout-color3, #bdbdbd);\n  --xr-background-color: var(--jp-layout-color0, white);\n  --xr-background-color-row-even: var(--jp-layout-color1, white);\n  --xr-background-color-row-odd: var(--jp-layout-color2, #eeeeee);\n}\n\nhtml[theme=dark],\nbody.vscode-dark {\n  --xr-font-color0: rgba(255, 255, 255, 1);\n  --xr-font-color2: rgba(255, 255, 255, 0.54);\n  --xr-font-color3: rgba(255, 255, 255, 0.38);\n  --xr-border-color: #1F1F1F;\n  --xr-disabled-color: #515151;\n  --xr-background-color: #111111;\n  --xr-background-color-row-even: #111111;\n  --xr-background-color-row-odd: #313131;\n}\n\n.xr-wrap {\n  display: block;\n  min-width: 300px;\n  max-width: 700px;\n}\n\n.xr-text-repr-fallback {\n  /* fallback to plain text repr when CSS is not injected (untrusted notebook) */\n  display: none;\n}\n\n.xr-header {\n  padding-top: 6px;\n  padding-bottom: 6px;\n  margin-bottom: 4px;\n  border-bottom: solid 1px var(--xr-border-color);\n}\n\n.xr-header > div,\n.xr-header > ul {\n  display: inline;\n  margin-top: 0;\n  margin-bottom: 0;\n}\n\n.xr-obj-type,\n.xr-array-name {\n  margin-left: 2px;\n  margin-right: 10px;\n}\n\n.xr-obj-type {\n  color: var(--xr-font-color2);\n}\n\n.xr-sections {\n  padding-left: 0 !important;\n  display: grid;\n  grid-template-columns: 150px auto auto 1fr 20px 20px;\n}\n\n.xr-section-item {\n  display: contents;\n}\n\n.xr-section-item input {\n  display: none;\n}\n\n.xr-section-item input + label {\n  color: var(--xr-disabled-color);\n}\n\n.xr-section-item input:enabled + label {\n  cursor: pointer;\n  color: var(--xr-font-color2);\n}\n\n.xr-section-item input:enabled + label:hover {\n  color: var(--xr-font-color0);\n}\n\n.xr-section-summary {\n  grid-column: 1;\n  color: var(--xr-font-color2);\n  font-weight: 500;\n}\n\n.xr-section-summary > span {\n  display: inline-block;\n  padding-left: 0.5em;\n}\n\n.xr-section-summary-in:disabled + label {\n  color: var(--xr-font-color2);\n}\n\n.xr-section-summary-in + label:before {\n  display: inline-block;\n  content: '►';\n  font-size: 11px;\n  width: 15px;\n  text-align: center;\n}\n\n.xr-section-summary-in:disabled + label:before {\n  color: var(--xr-disabled-color);\n}\n\n.xr-section-summary-in:checked + label:before {\n  content: '▼';\n}\n\n.xr-section-summary-in:checked + label > span {\n  display: none;\n}\n\n.xr-section-summary,\n.xr-section-inline-details {\n  padding-top: 4px;\n  padding-bottom: 4px;\n}\n\n.xr-section-inline-details {\n  grid-column: 2 / -1;\n}\n\n.xr-section-details {\n  display: none;\n  grid-column: 1 / -1;\n  margin-bottom: 5px;\n}\n\n.xr-section-summary-in:checked ~ .xr-section-details {\n  display: contents;\n}\n\n.xr-array-wrap {\n  grid-column: 1 / -1;\n  display: grid;\n  grid-template-columns: 20px auto;\n}\n\n.xr-array-wrap > label {\n  grid-column: 1;\n  vertical-align: top;\n}\n\n.xr-preview {\n  color: var(--xr-font-color3);\n}\n\n.xr-array-preview,\n.xr-array-data {\n  padding: 0 5px !important;\n  grid-column: 2;\n}\n\n.xr-array-data,\n.xr-array-in:checked ~ .xr-array-preview {\n  display: none;\n}\n\n.xr-array-in:checked ~ .xr-array-data,\n.xr-array-preview {\n  display: inline-block;\n}\n\n.xr-dim-list {\n  display: inline-block !important;\n  list-style: none;\n  padding: 0 !important;\n  margin: 0;\n}\n\n.xr-dim-list li {\n  display: inline-block;\n  padding: 0;\n  margin: 0;\n}\n\n.xr-dim-list:before {\n  content: '(';\n}\n\n.xr-dim-list:after {\n  content: ')';\n}\n\n.xr-dim-list li:not(:last-child):after {\n  content: ',';\n  padding-right: 5px;\n}\n\n.xr-has-index {\n  font-weight: bold;\n}\n\n.xr-var-list,\n.xr-var-item {\n  display: contents;\n}\n\n.xr-var-item > div,\n.xr-var-item label,\n.xr-var-item > .xr-var-name span {\n  background-color: var(--xr-background-color-row-even);\n  margin-bottom: 0;\n}\n\n.xr-var-item > .xr-var-name:hover span {\n  padding-right: 5px;\n}\n\n.xr-var-list > li:nth-child(odd) > div,\n.xr-var-list > li:nth-child(odd) > label,\n.xr-var-list > li:nth-child(odd) > .xr-var-name span {\n  background-color: var(--xr-background-color-row-odd);\n}\n\n.xr-var-name {\n  grid-column: 1;\n}\n\n.xr-var-dims {\n  grid-column: 2;\n}\n\n.xr-var-dtype {\n  grid-column: 3;\n  text-align: right;\n  color: var(--xr-font-color2);\n}\n\n.xr-var-preview {\n  grid-column: 4;\n}\n\n.xr-var-name,\n.xr-var-dims,\n.xr-var-dtype,\n.xr-preview,\n.xr-attrs dt {\n  white-space: nowrap;\n  overflow: hidden;\n  text-overflow: ellipsis;\n  padding-right: 10px;\n}\n\n.xr-var-name:hover,\n.xr-var-dims:hover,\n.xr-var-dtype:hover,\n.xr-attrs dt:hover {\n  overflow: visible;\n  width: auto;\n  z-index: 1;\n}\n\n.xr-var-attrs,\n.xr-var-data {\n  display: none;\n  background-color: var(--xr-background-color) !important;\n  padding-bottom: 5px !important;\n}\n\n.xr-var-attrs-in:checked ~ .xr-var-attrs,\n.xr-var-data-in:checked ~ .xr-var-data {\n  display: block;\n}\n\n.xr-var-data > table {\n  float: right;\n}\n\n.xr-var-name span,\n.xr-var-data,\n.xr-attrs {\n  padding-left: 25px !important;\n}\n\n.xr-attrs,\n.xr-var-attrs,\n.xr-var-data {\n  grid-column: 1 / -1;\n}\n\ndl.xr-attrs {\n  padding: 0;\n  margin: 0;\n  display: grid;\n  grid-template-columns: 125px auto;\n}\n\n.xr-attrs dt,\n.xr-attrs dd {\n  padding: 0;\n  margin: 0;\n  float: left;\n  padding-right: 10px;\n  width: auto;\n}\n\n.xr-attrs dt {\n  font-weight: normal;\n  grid-column: 1;\n}\n\n.xr-attrs dt:hover span {\n  display: inline-block;\n  background: var(--xr-background-color);\n  padding-right: 10px;\n}\n\n.xr-attrs dd {\n  grid-column: 2;\n  white-space: pre-wrap;\n  word-break: break-all;\n}\n\n.xr-icon-database,\n.xr-icon-file-text2 {\n  display: inline-block;\n  vertical-align: middle;\n  width: 1em;\n  height: 1.5em !important;\n  stroke-width: 0;\n  stroke: currentColor;\n  fill: currentColor;\n}\n</style><pre class='xr-text-repr-fallback'>&lt;xarray.DataArray &#x27;time&#x27; (time: 263088)&gt;\narray([&#x27;2015-12-31T16:00:00.000000000&#x27;, &#x27;2015-12-31T16:10:00.000000000&#x27;,\n       &#x27;2015-12-31T16:20:00.000000000&#x27;, ..., &#x27;2020-12-31T15:30:00.000000000&#x27;,\n       &#x27;2020-12-31T15:40:00.000000000&#x27;, &#x27;2020-12-31T15:50:00.000000000&#x27;],\n      dtype=&#x27;datetime64[ns]&#x27;)\nCoordinates:\n  * time     (time) datetime64[ns] 2015-12-31T16:00:00 ... 2020-12-31T15:50:00</pre><div class='xr-wrap' hidden><div class='xr-header'><div class='xr-obj-type'>xarray.DataArray</div><div class='xr-array-name'>'time'</div><ul class='xr-dim-list'><li><span class='xr-has-index'>time</span>: 263088</li></ul></div><ul class='xr-sections'><li class='xr-section-item'><div class='xr-array-wrap'><input id='section-fc023154-12b6-4894-94a7-cae2f1fc9a33' class='xr-array-in' type='checkbox' checked><label for='section-fc023154-12b6-4894-94a7-cae2f1fc9a33' title='Show/hide data repr'><svg class='icon xr-icon-database'><use xlink:href='#icon-database'></use></svg></label><div class='xr-array-preview xr-preview'><span>2015-12-31T16:00:00 2015-12-31T16:10:00 ... 2020-12-31T15:50:00</span></div><div class='xr-array-data'><pre>array([&#x27;2015-12-31T16:00:00.000000000&#x27;, &#x27;2015-12-31T16:10:00.000000000&#x27;,\n       &#x27;2015-12-31T16:20:00.000000000&#x27;, ..., &#x27;2020-12-31T15:30:00.000000000&#x27;,\n       &#x27;2020-12-31T15:40:00.000000000&#x27;, &#x27;2020-12-31T15:50:00.000000000&#x27;],\n      dtype=&#x27;datetime64[ns]&#x27;)</pre></div></div></li><li class='xr-section-item'><input id='section-816c8b12-a2a7-4e98-ba51-1f4481097d45' class='xr-section-summary-in' type='checkbox'  checked><label for='section-816c8b12-a2a7-4e98-ba51-1f4481097d45' class='xr-section-summary' >Coordinates: <span>(1)</span></label><div class='xr-section-inline-details'></div><div class='xr-section-details'><ul class='xr-var-list'><li class='xr-var-item'><div class='xr-var-name'><span class='xr-has-index'>time</span></div><div class='xr-var-dims'>(time)</div><div class='xr-var-dtype'>datetime64[ns]</div><div class='xr-var-preview xr-preview'>2015-12-31T16:00:00 ... 2020-12-...</div><input id='attrs-bc4fedd0-b3a0-47b7-a015-3fa7ae161b72' class='xr-var-attrs-in' type='checkbox' disabled><label for='attrs-bc4fedd0-b3a0-47b7-a015-3fa7ae161b72' title='Show/Hide attributes'><svg class='icon xr-icon-file-text2'><use xlink:href='#icon-file-text2'></use></svg></label><input id='data-351199c1-f5e2-475e-a687-122848d8d39b' class='xr-var-data-in' type='checkbox'><label for='data-351199c1-f5e2-475e-a687-122848d8d39b' title='Show/Hide data repr'><svg class='icon xr-icon-database'><use xlink:href='#icon-database'></use></svg></label><div class='xr-var-attrs'><dl class='xr-attrs'></dl></div><div class='xr-var-data'><pre>array([&#x27;2015-12-31T16:00:00.000000000&#x27;, &#x27;2015-12-31T16:10:00.000000000&#x27;,\n       &#x27;2015-12-31T16:20:00.000000000&#x27;, ..., &#x27;2020-12-31T15:30:00.000000000&#x27;,\n       &#x27;2020-12-31T15:40:00.000000000&#x27;, &#x27;2020-12-31T15:50:00.000000000&#x27;],\n      dtype=&#x27;datetime64[ns]&#x27;)</pre></div></li></ul></div></li><li class='xr-section-item'><input id='section-aa4ba6ed-fab9-4250-a7ad-1c3c5e216165' class='xr-section-summary-in' type='checkbox' disabled ><label for='section-aa4ba6ed-fab9-4250-a7ad-1c3c5e216165' class='xr-section-summary'  title='Expand/collapse section'>Attributes: <span>(0)</span></label><div class='xr-section-inline-details'></div><div class='xr-section-details'><dl class='xr-attrs'></dl></div></li></ul></div></div>"
     },
     "metadata": {},
     "execution_count": 9
    }
   ],
   "source": [
    "dset_md = xr.Dataset({\n",
    "    'sea_level': xr.DataArray(\n",
    "        data = sea_level,\n",
    "        dims = ['time'],\n",
    "        coords = {'time': times},\n",
    "    ),\n",
    "    'lat': xr.DataArray(\n",
    "        data = lat,\n",
    "        dims= 'record_id',\n",
    "        coords = {'record_id': name},\n",
    "    ),\n",
    "    'lon': xr.DataArray(\n",
    "        data = lon,\n",
    "        dims= 'record_id',\n",
    "        coords = {'record_id': name},\n",
    "    ),\n",
    "    'station_name': xr.DataArray(\n",
    "        data = name,\n",
    "        dims= 'record_id',\n",
    "        coords = {'record_id': name},\n",
    "        attrs={'long_name': long_name}\n",
    "    )})\n",
    "dset_md['time']\n"
   ]
  },
  {
   "source": [
    "#### Save the tgauge data"
   ],
   "cell_type": "markdown",
   "metadata": {}
  },
  {
   "cell_type": "code",
   "execution_count": 10,
   "metadata": {},
   "outputs": [],
   "source": [
    "dset_md.to_netcdf(path=pat_to_save)\n"
   ]
  },
  {
   "source": [
    "### Merge all the tgauge stations data from Marine Department"
   ],
   "cell_type": "markdown",
   "metadata": {}
  },
  {
   "cell_type": "code",
   "execution_count": 32,
   "metadata": {},
   "outputs": [],
   "source": [
    "path_md_cc = root_dir+'/data/tgauge_data/marine_department_hk/cheung_chau(cc)/tgauge_cc.nc'\n",
    "path_md_klw = root_dir+'/data/tgauge_data/marine_department_hk/ko_lau_wan(klw)/tgauge_klw.nc'\n",
    "path_md_kc = root_dir+'/data/tgauge_data/marine_department_hk/kwai_chung(kc)/tgauge_kc.nc'\n",
    "path_md_mw = root_dir+'/data/tgauge_data/marine_department_hk/ma_wan(mw)/tgauge_mw.nc'\n",
    "path_md_save = root_dir+'/data/tgauge_data/marine_department_hk/tgauge_md.nc'"
   ]
  },
  {
   "cell_type": "code",
   "execution_count": 33,
   "metadata": {},
   "outputs": [
    {
     "output_type": "execute_result",
     "data": {
      "text/plain": [
       "<xarray.DataArray 'time' (time: 263088)>\n",
       "array(['2015-12-31T16:00:00.000000000', '2015-12-31T16:10:00.000000000',\n",
       "       '2015-12-31T16:20:00.000000000', ..., '2020-12-31T15:30:00.000000000',\n",
       "       '2020-12-31T15:40:00.000000000', '2020-12-31T15:50:00.000000000'],\n",
       "      dtype='datetime64[ns]')\n",
       "Coordinates:\n",
       "  * time     (time) datetime64[ns] 2015-12-31T16:00:00 ... 2020-12-31T15:50:00"
      ],
      "text/html": "<div><svg style=\"position: absolute; width: 0; height: 0; overflow: hidden\">\n<defs>\n<symbol id=\"icon-database\" viewBox=\"0 0 32 32\">\n<path d=\"M16 0c-8.837 0-16 2.239-16 5v4c0 2.761 7.163 5 16 5s16-2.239 16-5v-4c0-2.761-7.163-5-16-5z\"></path>\n<path d=\"M16 17c-8.837 0-16-2.239-16-5v6c0 2.761 7.163 5 16 5s16-2.239 16-5v-6c0 2.761-7.163 5-16 5z\"></path>\n<path d=\"M16 26c-8.837 0-16-2.239-16-5v6c0 2.761 7.163 5 16 5s16-2.239 16-5v-6c0 2.761-7.163 5-16 5z\"></path>\n</symbol>\n<symbol id=\"icon-file-text2\" viewBox=\"0 0 32 32\">\n<path d=\"M28.681 7.159c-0.694-0.947-1.662-2.053-2.724-3.116s-2.169-2.030-3.116-2.724c-1.612-1.182-2.393-1.319-2.841-1.319h-15.5c-1.378 0-2.5 1.121-2.5 2.5v27c0 1.378 1.122 2.5 2.5 2.5h23c1.378 0 2.5-1.122 2.5-2.5v-19.5c0-0.448-0.137-1.23-1.319-2.841zM24.543 5.457c0.959 0.959 1.712 1.825 2.268 2.543h-4.811v-4.811c0.718 0.556 1.584 1.309 2.543 2.268zM28 29.5c0 0.271-0.229 0.5-0.5 0.5h-23c-0.271 0-0.5-0.229-0.5-0.5v-27c0-0.271 0.229-0.5 0.5-0.5 0 0 15.499-0 15.5 0v7c0 0.552 0.448 1 1 1h7v19.5z\"></path>\n<path d=\"M23 26h-14c-0.552 0-1-0.448-1-1s0.448-1 1-1h14c0.552 0 1 0.448 1 1s-0.448 1-1 1z\"></path>\n<path d=\"M23 22h-14c-0.552 0-1-0.448-1-1s0.448-1 1-1h14c0.552 0 1 0.448 1 1s-0.448 1-1 1z\"></path>\n<path d=\"M23 18h-14c-0.552 0-1-0.448-1-1s0.448-1 1-1h14c0.552 0 1 0.448 1 1s-0.448 1-1 1z\"></path>\n</symbol>\n</defs>\n</svg>\n<style>/* CSS stylesheet for displaying xarray objects in jupyterlab.\n *\n */\n\n:root {\n  --xr-font-color0: var(--jp-content-font-color0, rgba(0, 0, 0, 1));\n  --xr-font-color2: var(--jp-content-font-color2, rgba(0, 0, 0, 0.54));\n  --xr-font-color3: var(--jp-content-font-color3, rgba(0, 0, 0, 0.38));\n  --xr-border-color: var(--jp-border-color2, #e0e0e0);\n  --xr-disabled-color: var(--jp-layout-color3, #bdbdbd);\n  --xr-background-color: var(--jp-layout-color0, white);\n  --xr-background-color-row-even: var(--jp-layout-color1, white);\n  --xr-background-color-row-odd: var(--jp-layout-color2, #eeeeee);\n}\n\nhtml[theme=dark],\nbody.vscode-dark {\n  --xr-font-color0: rgba(255, 255, 255, 1);\n  --xr-font-color2: rgba(255, 255, 255, 0.54);\n  --xr-font-color3: rgba(255, 255, 255, 0.38);\n  --xr-border-color: #1F1F1F;\n  --xr-disabled-color: #515151;\n  --xr-background-color: #111111;\n  --xr-background-color-row-even: #111111;\n  --xr-background-color-row-odd: #313131;\n}\n\n.xr-wrap {\n  display: block;\n  min-width: 300px;\n  max-width: 700px;\n}\n\n.xr-text-repr-fallback {\n  /* fallback to plain text repr when CSS is not injected (untrusted notebook) */\n  display: none;\n}\n\n.xr-header {\n  padding-top: 6px;\n  padding-bottom: 6px;\n  margin-bottom: 4px;\n  border-bottom: solid 1px var(--xr-border-color);\n}\n\n.xr-header > div,\n.xr-header > ul {\n  display: inline;\n  margin-top: 0;\n  margin-bottom: 0;\n}\n\n.xr-obj-type,\n.xr-array-name {\n  margin-left: 2px;\n  margin-right: 10px;\n}\n\n.xr-obj-type {\n  color: var(--xr-font-color2);\n}\n\n.xr-sections {\n  padding-left: 0 !important;\n  display: grid;\n  grid-template-columns: 150px auto auto 1fr 20px 20px;\n}\n\n.xr-section-item {\n  display: contents;\n}\n\n.xr-section-item input {\n  display: none;\n}\n\n.xr-section-item input + label {\n  color: var(--xr-disabled-color);\n}\n\n.xr-section-item input:enabled + label {\n  cursor: pointer;\n  color: var(--xr-font-color2);\n}\n\n.xr-section-item input:enabled + label:hover {\n  color: var(--xr-font-color0);\n}\n\n.xr-section-summary {\n  grid-column: 1;\n  color: var(--xr-font-color2);\n  font-weight: 500;\n}\n\n.xr-section-summary > span {\n  display: inline-block;\n  padding-left: 0.5em;\n}\n\n.xr-section-summary-in:disabled + label {\n  color: var(--xr-font-color2);\n}\n\n.xr-section-summary-in + label:before {\n  display: inline-block;\n  content: '►';\n  font-size: 11px;\n  width: 15px;\n  text-align: center;\n}\n\n.xr-section-summary-in:disabled + label:before {\n  color: var(--xr-disabled-color);\n}\n\n.xr-section-summary-in:checked + label:before {\n  content: '▼';\n}\n\n.xr-section-summary-in:checked + label > span {\n  display: none;\n}\n\n.xr-section-summary,\n.xr-section-inline-details {\n  padding-top: 4px;\n  padding-bottom: 4px;\n}\n\n.xr-section-inline-details {\n  grid-column: 2 / -1;\n}\n\n.xr-section-details {\n  display: none;\n  grid-column: 1 / -1;\n  margin-bottom: 5px;\n}\n\n.xr-section-summary-in:checked ~ .xr-section-details {\n  display: contents;\n}\n\n.xr-array-wrap {\n  grid-column: 1 / -1;\n  display: grid;\n  grid-template-columns: 20px auto;\n}\n\n.xr-array-wrap > label {\n  grid-column: 1;\n  vertical-align: top;\n}\n\n.xr-preview {\n  color: var(--xr-font-color3);\n}\n\n.xr-array-preview,\n.xr-array-data {\n  padding: 0 5px !important;\n  grid-column: 2;\n}\n\n.xr-array-data,\n.xr-array-in:checked ~ .xr-array-preview {\n  display: none;\n}\n\n.xr-array-in:checked ~ .xr-array-data,\n.xr-array-preview {\n  display: inline-block;\n}\n\n.xr-dim-list {\n  display: inline-block !important;\n  list-style: none;\n  padding: 0 !important;\n  margin: 0;\n}\n\n.xr-dim-list li {\n  display: inline-block;\n  padding: 0;\n  margin: 0;\n}\n\n.xr-dim-list:before {\n  content: '(';\n}\n\n.xr-dim-list:after {\n  content: ')';\n}\n\n.xr-dim-list li:not(:last-child):after {\n  content: ',';\n  padding-right: 5px;\n}\n\n.xr-has-index {\n  font-weight: bold;\n}\n\n.xr-var-list,\n.xr-var-item {\n  display: contents;\n}\n\n.xr-var-item > div,\n.xr-var-item label,\n.xr-var-item > .xr-var-name span {\n  background-color: var(--xr-background-color-row-even);\n  margin-bottom: 0;\n}\n\n.xr-var-item > .xr-var-name:hover span {\n  padding-right: 5px;\n}\n\n.xr-var-list > li:nth-child(odd) > div,\n.xr-var-list > li:nth-child(odd) > label,\n.xr-var-list > li:nth-child(odd) > .xr-var-name span {\n  background-color: var(--xr-background-color-row-odd);\n}\n\n.xr-var-name {\n  grid-column: 1;\n}\n\n.xr-var-dims {\n  grid-column: 2;\n}\n\n.xr-var-dtype {\n  grid-column: 3;\n  text-align: right;\n  color: var(--xr-font-color2);\n}\n\n.xr-var-preview {\n  grid-column: 4;\n}\n\n.xr-var-name,\n.xr-var-dims,\n.xr-var-dtype,\n.xr-preview,\n.xr-attrs dt {\n  white-space: nowrap;\n  overflow: hidden;\n  text-overflow: ellipsis;\n  padding-right: 10px;\n}\n\n.xr-var-name:hover,\n.xr-var-dims:hover,\n.xr-var-dtype:hover,\n.xr-attrs dt:hover {\n  overflow: visible;\n  width: auto;\n  z-index: 1;\n}\n\n.xr-var-attrs,\n.xr-var-data {\n  display: none;\n  background-color: var(--xr-background-color) !important;\n  padding-bottom: 5px !important;\n}\n\n.xr-var-attrs-in:checked ~ .xr-var-attrs,\n.xr-var-data-in:checked ~ .xr-var-data {\n  display: block;\n}\n\n.xr-var-data > table {\n  float: right;\n}\n\n.xr-var-name span,\n.xr-var-data,\n.xr-attrs {\n  padding-left: 25px !important;\n}\n\n.xr-attrs,\n.xr-var-attrs,\n.xr-var-data {\n  grid-column: 1 / -1;\n}\n\ndl.xr-attrs {\n  padding: 0;\n  margin: 0;\n  display: grid;\n  grid-template-columns: 125px auto;\n}\n\n.xr-attrs dt,\n.xr-attrs dd {\n  padding: 0;\n  margin: 0;\n  float: left;\n  padding-right: 10px;\n  width: auto;\n}\n\n.xr-attrs dt {\n  font-weight: normal;\n  grid-column: 1;\n}\n\n.xr-attrs dt:hover span {\n  display: inline-block;\n  background: var(--xr-background-color);\n  padding-right: 10px;\n}\n\n.xr-attrs dd {\n  grid-column: 2;\n  white-space: pre-wrap;\n  word-break: break-all;\n}\n\n.xr-icon-database,\n.xr-icon-file-text2 {\n  display: inline-block;\n  vertical-align: middle;\n  width: 1em;\n  height: 1.5em !important;\n  stroke-width: 0;\n  stroke: currentColor;\n  fill: currentColor;\n}\n</style><pre class='xr-text-repr-fallback'>&lt;xarray.DataArray &#x27;time&#x27; (time: 263088)&gt;\narray([&#x27;2015-12-31T16:00:00.000000000&#x27;, &#x27;2015-12-31T16:10:00.000000000&#x27;,\n       &#x27;2015-12-31T16:20:00.000000000&#x27;, ..., &#x27;2020-12-31T15:30:00.000000000&#x27;,\n       &#x27;2020-12-31T15:40:00.000000000&#x27;, &#x27;2020-12-31T15:50:00.000000000&#x27;],\n      dtype=&#x27;datetime64[ns]&#x27;)\nCoordinates:\n  * time     (time) datetime64[ns] 2015-12-31T16:00:00 ... 2020-12-31T15:50:00</pre><div class='xr-wrap' hidden><div class='xr-header'><div class='xr-obj-type'>xarray.DataArray</div><div class='xr-array-name'>'time'</div><ul class='xr-dim-list'><li><span class='xr-has-index'>time</span>: 263088</li></ul></div><ul class='xr-sections'><li class='xr-section-item'><div class='xr-array-wrap'><input id='section-31ace76a-7f20-46c3-936b-077aaf8f2b8f' class='xr-array-in' type='checkbox' checked><label for='section-31ace76a-7f20-46c3-936b-077aaf8f2b8f' title='Show/hide data repr'><svg class='icon xr-icon-database'><use xlink:href='#icon-database'></use></svg></label><div class='xr-array-preview xr-preview'><span>2015-12-31T16:00:00 2015-12-31T16:10:00 ... 2020-12-31T15:50:00</span></div><div class='xr-array-data'><pre>array([&#x27;2015-12-31T16:00:00.000000000&#x27;, &#x27;2015-12-31T16:10:00.000000000&#x27;,\n       &#x27;2015-12-31T16:20:00.000000000&#x27;, ..., &#x27;2020-12-31T15:30:00.000000000&#x27;,\n       &#x27;2020-12-31T15:40:00.000000000&#x27;, &#x27;2020-12-31T15:50:00.000000000&#x27;],\n      dtype=&#x27;datetime64[ns]&#x27;)</pre></div></div></li><li class='xr-section-item'><input id='section-6ee3a12f-7967-47ed-b054-6f9b6c6289ce' class='xr-section-summary-in' type='checkbox'  checked><label for='section-6ee3a12f-7967-47ed-b054-6f9b6c6289ce' class='xr-section-summary' >Coordinates: <span>(1)</span></label><div class='xr-section-inline-details'></div><div class='xr-section-details'><ul class='xr-var-list'><li class='xr-var-item'><div class='xr-var-name'><span class='xr-has-index'>time</span></div><div class='xr-var-dims'>(time)</div><div class='xr-var-dtype'>datetime64[ns]</div><div class='xr-var-preview xr-preview'>2015-12-31T16:00:00 ... 2020-12-...</div><input id='attrs-2ed20d8b-ac1d-4b49-8a07-f488eb819498' class='xr-var-attrs-in' type='checkbox' disabled><label for='attrs-2ed20d8b-ac1d-4b49-8a07-f488eb819498' title='Show/Hide attributes'><svg class='icon xr-icon-file-text2'><use xlink:href='#icon-file-text2'></use></svg></label><input id='data-7971dd07-d515-4e7c-bd03-140a9f33b2d4' class='xr-var-data-in' type='checkbox'><label for='data-7971dd07-d515-4e7c-bd03-140a9f33b2d4' title='Show/Hide data repr'><svg class='icon xr-icon-database'><use xlink:href='#icon-database'></use></svg></label><div class='xr-var-attrs'><dl class='xr-attrs'></dl></div><div class='xr-var-data'><pre>array([&#x27;2015-12-31T16:00:00.000000000&#x27;, &#x27;2015-12-31T16:10:00.000000000&#x27;,\n       &#x27;2015-12-31T16:20:00.000000000&#x27;, ..., &#x27;2020-12-31T15:30:00.000000000&#x27;,\n       &#x27;2020-12-31T15:40:00.000000000&#x27;, &#x27;2020-12-31T15:50:00.000000000&#x27;],\n      dtype=&#x27;datetime64[ns]&#x27;)</pre></div></li></ul></div></li><li class='xr-section-item'><input id='section-09185707-daf4-4dba-a333-dd4c703fa9fb' class='xr-section-summary-in' type='checkbox' disabled ><label for='section-09185707-daf4-4dba-a333-dd4c703fa9fb' class='xr-section-summary'  title='Expand/collapse section'>Attributes: <span>(0)</span></label><div class='xr-section-inline-details'></div><div class='xr-section-details'><dl class='xr-attrs'></dl></div></li></ul></div></div>"
     },
     "metadata": {},
     "execution_count": 33
    }
   ],
   "source": [
    "tgauge_cc = xr.open_dataset(path_md_cc)\n",
    "tgauge_klw = xr.open_dataset(path_md_klw)\n",
    "tgauge_kc = xr.open_dataset(path_md_kc)\n",
    "tgauge_mw = xr.open_dataset(path_md_mw)\n",
    "tgauge_md = xr.concat([tgauge_cc, tgauge_klw, tgauge_kc, tgauge_mw], dim=\"record_id\")\n",
    "tgauge_md['station_name'].attrs['long_name'] = 'Tide gauge data from Hong Kong Marine Department'\n",
    "tgauge_md['time']"
   ]
  },
  {
   "cell_type": "code",
   "execution_count": 35,
   "metadata": {},
   "outputs": [],
   "source": [
    "# tgauge_md.to_netcdf(path=path_md_save)\n"
   ]
  },
  {
   "source": [
    "## Tide stations data from Hong Kong Observatory\n"
   ],
   "cell_type": "markdown",
   "metadata": {}
  },
  {
   "source": [
    "### Postition of the tide stations\n",
    "lat_qb, lon_qb = np.array([22.3]), np.array([114.217])  \n",
    "lat_sp, lon_sp = np.array([22.220]), np.array([113.894])  \n",
    "lat_tmw, lon_tmw = np.array([22.270]), np.array([114.289])  \n",
    "lat_tpk, lon_tpk = np.array([22.443]), np.array([114.184])  \n",
    "lat_tbt, lon_tbt = np.array([22.487]), np.array([114.014])  "
   ],
   "cell_type": "markdown",
   "metadata": {}
  },
  {
   "cell_type": "code",
   "execution_count": 24,
   "metadata": {},
   "outputs": [],
   "source": [
    "dir_obser_tgauge = root_dir+'/data/tgauge_data/observatory_hk/tsim_bei_tsui(tbt)'\n",
    "path_obser_save = dir_obser_tgauge+'/tgauge_obser_tbt.nc'\n",
    "name = ['tbt']\n",
    "long_name = 'Tsim bei tsui from Hong Kong Oberatory'\n",
    "lat, lon = np.array([22.487]), np.array([114.014])\n"
   ]
  },
  {
   "source": [
    "### Read sea level value the corresponding time"
   ],
   "cell_type": "markdown",
   "metadata": {}
  },
  {
   "cell_type": "code",
   "execution_count": 25,
   "metadata": {
    "tags": []
   },
   "outputs": [
    {
     "output_type": "stream",
     "name": "stdout",
     "text": [
      "files number: 5\n",
      "[numpy.datetime64('2020-12-31T07:00'), numpy.datetime64('2020-12-31T08:00'), numpy.datetime64('2020-12-31T09:00'), numpy.datetime64('2020-12-31T10:00'), numpy.datetime64('2020-12-31T11:00'), numpy.datetime64('2020-12-31T12:00'), numpy.datetime64('2020-12-31T13:00'), numpy.datetime64('2020-12-31T14:00'), numpy.datetime64('2020-12-31T15:00'), numpy.datetime64('2020-12-31T16:00')]\n",
      "[1.6, 1.45, 1.44, 1.69, 2.03, 2.4, 2.72, 2.87, 2.92, 2.85]\n"
     ]
    }
   ],
   "source": [
    "## get files path name\n",
    "files_path = get_filesPath(dir_obser_tgauge, key_words='20')\n",
    "files_path = sorted(files_path)\n",
    "print('files number:', len(files_path))\n",
    "times, sea_level = [], []\n",
    "for file_path in files_path:\n",
    "    f = open(file_path,\"r\")\n",
    "    text = f.read().split('\\n')\n",
    "    year = file_path[-4:]\n",
    "    for day_ind in range(len(text)-1):\n",
    "        month = text[day_ind][0:2].replace(\" \",\"\").zfill(2)\n",
    "        day = text[day_ind][2:4]\n",
    "        for hour_ind in range(1, 25):\n",
    "            time = str(hour_ind).zfill(2)+':'+'00'\n",
    "            if hour_ind < 24:\n",
    "                time_i = np.datetime64(year+'-' + month + '-'+day + ' ' + time)\n",
    "            else:               \n",
    "                time_i = time_i + np.timedelta64(1, 'h')\n",
    "            time_i_utc = time_i - np.timedelta64(8, 'h')  # convert to utc time\n",
    "            sea_level_i = float(text[day_ind][hour_ind*4:hour_ind*4+4])/100\n",
    "            times.append(time_i_utc)\n",
    "            sea_level.append(sea_level_i)\n",
    "\n",
    "print(times[-10:])\n",
    "print(sea_level[-10:])\n",
    "# sea_level[339:352]\n"
   ]
  },
  {
   "source": [
    "### Save to .nc file"
   ],
   "cell_type": "markdown",
   "metadata": {}
  },
  {
   "cell_type": "code",
   "execution_count": 26,
   "metadata": {},
   "outputs": [],
   "source": [
    "dset_obser = xr.Dataset({\n",
    "    'sea_level': xr.DataArray(\n",
    "        data = sea_level,\n",
    "        dims = ['time'],\n",
    "        coords = {'time': times},\n",
    "    ),\n",
    "    'lat': xr.DataArray(\n",
    "        data = lat,\n",
    "        dims= 'record_id',\n",
    "        coords = {'record_id': name},\n",
    "    ),\n",
    "    'lon': xr.DataArray(\n",
    "        data = lon,\n",
    "        dims= 'record_id',\n",
    "        coords = {'record_id': name},\n",
    "    ),\n",
    "    'station_name': xr.DataArray(\n",
    "        data = name,\n",
    "        dims= 'record_id',\n",
    "        coords = {'record_id': name},\n",
    "        attrs={'long_name': long_name}\n",
    "    )})\n",
    "dset_obser\n",
    "dset_obser.to_netcdf(path=path_obser_save)\n"
   ]
  },
  {
   "cell_type": "code",
   "execution_count": 27,
   "metadata": {},
   "outputs": [],
   "source": [
    "path_obser_qb = root_dir+'/data/tgauge_data/observatory_hk/quarry_bay(qb)/tgauge_obser_qb.nc'\n",
    "path_obser_sp = root_dir+'/data/tgauge_data/observatory_hk/shek_pik(sp)/tgauge_obser_sp.nc'\n",
    "path_obser_tmw = root_dir+'/data/tgauge_data/observatory_hk/tai_miu_wan(tmw)/tgauge_obser_tmw.nc'\n",
    "path_obser_tpk = root_dir+'/data/tgauge_data/observatory_hk/tai_po_kau(tpk)/tgauge_obser_tpk.nc'\n",
    "path_obser_tsui = root_dir+'/data/tgauge_data/observatory_hk/tsim_bei_tsui(tbt)/tgauge_obser_tbt.nc'\n",
    "path_obser_save = root_dir+'/data/tgauge_data/observatory_hk/tgauge_obser.nc'\n"
   ]
  },
  {
   "cell_type": "code",
   "execution_count": 28,
   "metadata": {},
   "outputs": [
    {
     "output_type": "execute_result",
     "data": {
      "text/plain": [
       "<xarray.Dataset>\n",
       "Dimensions:       (record_id: 5, time: 43848)\n",
       "Coordinates:\n",
       "  * time          (time) datetime64[ns] 2015-12-31T17:00:00 ... 2020-12-31T16...\n",
       "  * record_id     (record_id) object 'qb' 'sp' 'tmw' 'tpk' 'tbt'\n",
       "Data variables:\n",
       "    sea_level     (record_id, time) float64 2.01 2.01 1.87 ... 2.87 2.92 2.85\n",
       "    lat           (record_id) float64 22.3 22.22 22.27 22.44 22.49\n",
       "    lon           (record_id) float64 114.2 113.9 114.3 114.2 114.0\n",
       "    station_name  (record_id) object 'qb' 'sp' 'tmw' 'tpk' 'tbt'"
      ],
      "text/html": "<div><svg style=\"position: absolute; width: 0; height: 0; overflow: hidden\">\n<defs>\n<symbol id=\"icon-database\" viewBox=\"0 0 32 32\">\n<path d=\"M16 0c-8.837 0-16 2.239-16 5v4c0 2.761 7.163 5 16 5s16-2.239 16-5v-4c0-2.761-7.163-5-16-5z\"></path>\n<path d=\"M16 17c-8.837 0-16-2.239-16-5v6c0 2.761 7.163 5 16 5s16-2.239 16-5v-6c0 2.761-7.163 5-16 5z\"></path>\n<path d=\"M16 26c-8.837 0-16-2.239-16-5v6c0 2.761 7.163 5 16 5s16-2.239 16-5v-6c0 2.761-7.163 5-16 5z\"></path>\n</symbol>\n<symbol id=\"icon-file-text2\" viewBox=\"0 0 32 32\">\n<path d=\"M28.681 7.159c-0.694-0.947-1.662-2.053-2.724-3.116s-2.169-2.030-3.116-2.724c-1.612-1.182-2.393-1.319-2.841-1.319h-15.5c-1.378 0-2.5 1.121-2.5 2.5v27c0 1.378 1.122 2.5 2.5 2.5h23c1.378 0 2.5-1.122 2.5-2.5v-19.5c0-0.448-0.137-1.23-1.319-2.841zM24.543 5.457c0.959 0.959 1.712 1.825 2.268 2.543h-4.811v-4.811c0.718 0.556 1.584 1.309 2.543 2.268zM28 29.5c0 0.271-0.229 0.5-0.5 0.5h-23c-0.271 0-0.5-0.229-0.5-0.5v-27c0-0.271 0.229-0.5 0.5-0.5 0 0 15.499-0 15.5 0v7c0 0.552 0.448 1 1 1h7v19.5z\"></path>\n<path d=\"M23 26h-14c-0.552 0-1-0.448-1-1s0.448-1 1-1h14c0.552 0 1 0.448 1 1s-0.448 1-1 1z\"></path>\n<path d=\"M23 22h-14c-0.552 0-1-0.448-1-1s0.448-1 1-1h14c0.552 0 1 0.448 1 1s-0.448 1-1 1z\"></path>\n<path d=\"M23 18h-14c-0.552 0-1-0.448-1-1s0.448-1 1-1h14c0.552 0 1 0.448 1 1s-0.448 1-1 1z\"></path>\n</symbol>\n</defs>\n</svg>\n<style>/* CSS stylesheet for displaying xarray objects in jupyterlab.\n *\n */\n\n:root {\n  --xr-font-color0: var(--jp-content-font-color0, rgba(0, 0, 0, 1));\n  --xr-font-color2: var(--jp-content-font-color2, rgba(0, 0, 0, 0.54));\n  --xr-font-color3: var(--jp-content-font-color3, rgba(0, 0, 0, 0.38));\n  --xr-border-color: var(--jp-border-color2, #e0e0e0);\n  --xr-disabled-color: var(--jp-layout-color3, #bdbdbd);\n  --xr-background-color: var(--jp-layout-color0, white);\n  --xr-background-color-row-even: var(--jp-layout-color1, white);\n  --xr-background-color-row-odd: var(--jp-layout-color2, #eeeeee);\n}\n\nhtml[theme=dark],\nbody.vscode-dark {\n  --xr-font-color0: rgba(255, 255, 255, 1);\n  --xr-font-color2: rgba(255, 255, 255, 0.54);\n  --xr-font-color3: rgba(255, 255, 255, 0.38);\n  --xr-border-color: #1F1F1F;\n  --xr-disabled-color: #515151;\n  --xr-background-color: #111111;\n  --xr-background-color-row-even: #111111;\n  --xr-background-color-row-odd: #313131;\n}\n\n.xr-wrap {\n  display: block;\n  min-width: 300px;\n  max-width: 700px;\n}\n\n.xr-text-repr-fallback {\n  /* fallback to plain text repr when CSS is not injected (untrusted notebook) */\n  display: none;\n}\n\n.xr-header {\n  padding-top: 6px;\n  padding-bottom: 6px;\n  margin-bottom: 4px;\n  border-bottom: solid 1px var(--xr-border-color);\n}\n\n.xr-header > div,\n.xr-header > ul {\n  display: inline;\n  margin-top: 0;\n  margin-bottom: 0;\n}\n\n.xr-obj-type,\n.xr-array-name {\n  margin-left: 2px;\n  margin-right: 10px;\n}\n\n.xr-obj-type {\n  color: var(--xr-font-color2);\n}\n\n.xr-sections {\n  padding-left: 0 !important;\n  display: grid;\n  grid-template-columns: 150px auto auto 1fr 20px 20px;\n}\n\n.xr-section-item {\n  display: contents;\n}\n\n.xr-section-item input {\n  display: none;\n}\n\n.xr-section-item input + label {\n  color: var(--xr-disabled-color);\n}\n\n.xr-section-item input:enabled + label {\n  cursor: pointer;\n  color: var(--xr-font-color2);\n}\n\n.xr-section-item input:enabled + label:hover {\n  color: var(--xr-font-color0);\n}\n\n.xr-section-summary {\n  grid-column: 1;\n  color: var(--xr-font-color2);\n  font-weight: 500;\n}\n\n.xr-section-summary > span {\n  display: inline-block;\n  padding-left: 0.5em;\n}\n\n.xr-section-summary-in:disabled + label {\n  color: var(--xr-font-color2);\n}\n\n.xr-section-summary-in + label:before {\n  display: inline-block;\n  content: '►';\n  font-size: 11px;\n  width: 15px;\n  text-align: center;\n}\n\n.xr-section-summary-in:disabled + label:before {\n  color: var(--xr-disabled-color);\n}\n\n.xr-section-summary-in:checked + label:before {\n  content: '▼';\n}\n\n.xr-section-summary-in:checked + label > span {\n  display: none;\n}\n\n.xr-section-summary,\n.xr-section-inline-details {\n  padding-top: 4px;\n  padding-bottom: 4px;\n}\n\n.xr-section-inline-details {\n  grid-column: 2 / -1;\n}\n\n.xr-section-details {\n  display: none;\n  grid-column: 1 / -1;\n  margin-bottom: 5px;\n}\n\n.xr-section-summary-in:checked ~ .xr-section-details {\n  display: contents;\n}\n\n.xr-array-wrap {\n  grid-column: 1 / -1;\n  display: grid;\n  grid-template-columns: 20px auto;\n}\n\n.xr-array-wrap > label {\n  grid-column: 1;\n  vertical-align: top;\n}\n\n.xr-preview {\n  color: var(--xr-font-color3);\n}\n\n.xr-array-preview,\n.xr-array-data {\n  padding: 0 5px !important;\n  grid-column: 2;\n}\n\n.xr-array-data,\n.xr-array-in:checked ~ .xr-array-preview {\n  display: none;\n}\n\n.xr-array-in:checked ~ .xr-array-data,\n.xr-array-preview {\n  display: inline-block;\n}\n\n.xr-dim-list {\n  display: inline-block !important;\n  list-style: none;\n  padding: 0 !important;\n  margin: 0;\n}\n\n.xr-dim-list li {\n  display: inline-block;\n  padding: 0;\n  margin: 0;\n}\n\n.xr-dim-list:before {\n  content: '(';\n}\n\n.xr-dim-list:after {\n  content: ')';\n}\n\n.xr-dim-list li:not(:last-child):after {\n  content: ',';\n  padding-right: 5px;\n}\n\n.xr-has-index {\n  font-weight: bold;\n}\n\n.xr-var-list,\n.xr-var-item {\n  display: contents;\n}\n\n.xr-var-item > div,\n.xr-var-item label,\n.xr-var-item > .xr-var-name span {\n  background-color: var(--xr-background-color-row-even);\n  margin-bottom: 0;\n}\n\n.xr-var-item > .xr-var-name:hover span {\n  padding-right: 5px;\n}\n\n.xr-var-list > li:nth-child(odd) > div,\n.xr-var-list > li:nth-child(odd) > label,\n.xr-var-list > li:nth-child(odd) > .xr-var-name span {\n  background-color: var(--xr-background-color-row-odd);\n}\n\n.xr-var-name {\n  grid-column: 1;\n}\n\n.xr-var-dims {\n  grid-column: 2;\n}\n\n.xr-var-dtype {\n  grid-column: 3;\n  text-align: right;\n  color: var(--xr-font-color2);\n}\n\n.xr-var-preview {\n  grid-column: 4;\n}\n\n.xr-var-name,\n.xr-var-dims,\n.xr-var-dtype,\n.xr-preview,\n.xr-attrs dt {\n  white-space: nowrap;\n  overflow: hidden;\n  text-overflow: ellipsis;\n  padding-right: 10px;\n}\n\n.xr-var-name:hover,\n.xr-var-dims:hover,\n.xr-var-dtype:hover,\n.xr-attrs dt:hover {\n  overflow: visible;\n  width: auto;\n  z-index: 1;\n}\n\n.xr-var-attrs,\n.xr-var-data {\n  display: none;\n  background-color: var(--xr-background-color) !important;\n  padding-bottom: 5px !important;\n}\n\n.xr-var-attrs-in:checked ~ .xr-var-attrs,\n.xr-var-data-in:checked ~ .xr-var-data {\n  display: block;\n}\n\n.xr-var-data > table {\n  float: right;\n}\n\n.xr-var-name span,\n.xr-var-data,\n.xr-attrs {\n  padding-left: 25px !important;\n}\n\n.xr-attrs,\n.xr-var-attrs,\n.xr-var-data {\n  grid-column: 1 / -1;\n}\n\ndl.xr-attrs {\n  padding: 0;\n  margin: 0;\n  display: grid;\n  grid-template-columns: 125px auto;\n}\n\n.xr-attrs dt,\n.xr-attrs dd {\n  padding: 0;\n  margin: 0;\n  float: left;\n  padding-right: 10px;\n  width: auto;\n}\n\n.xr-attrs dt {\n  font-weight: normal;\n  grid-column: 1;\n}\n\n.xr-attrs dt:hover span {\n  display: inline-block;\n  background: var(--xr-background-color);\n  padding-right: 10px;\n}\n\n.xr-attrs dd {\n  grid-column: 2;\n  white-space: pre-wrap;\n  word-break: break-all;\n}\n\n.xr-icon-database,\n.xr-icon-file-text2 {\n  display: inline-block;\n  vertical-align: middle;\n  width: 1em;\n  height: 1.5em !important;\n  stroke-width: 0;\n  stroke: currentColor;\n  fill: currentColor;\n}\n</style><pre class='xr-text-repr-fallback'>&lt;xarray.Dataset&gt;\nDimensions:       (record_id: 5, time: 43848)\nCoordinates:\n  * time          (time) datetime64[ns] 2015-12-31T17:00:00 ... 2020-12-31T16...\n  * record_id     (record_id) object &#x27;qb&#x27; &#x27;sp&#x27; &#x27;tmw&#x27; &#x27;tpk&#x27; &#x27;tbt&#x27;\nData variables:\n    sea_level     (record_id, time) float64 2.01 2.01 1.87 ... 2.87 2.92 2.85\n    lat           (record_id) float64 22.3 22.22 22.27 22.44 22.49\n    lon           (record_id) float64 114.2 113.9 114.3 114.2 114.0\n    station_name  (record_id) object &#x27;qb&#x27; &#x27;sp&#x27; &#x27;tmw&#x27; &#x27;tpk&#x27; &#x27;tbt&#x27;</pre><div class='xr-wrap' hidden><div class='xr-header'><div class='xr-obj-type'>xarray.Dataset</div></div><ul class='xr-sections'><li class='xr-section-item'><input id='section-1f932107-7984-4501-bf4b-a1eb6843895e' class='xr-section-summary-in' type='checkbox' disabled ><label for='section-1f932107-7984-4501-bf4b-a1eb6843895e' class='xr-section-summary'  title='Expand/collapse section'>Dimensions:</label><div class='xr-section-inline-details'><ul class='xr-dim-list'><li><span class='xr-has-index'>record_id</span>: 5</li><li><span class='xr-has-index'>time</span>: 43848</li></ul></div><div class='xr-section-details'></div></li><li class='xr-section-item'><input id='section-e4f902a8-0b87-4561-959b-671bfbc3ab1c' class='xr-section-summary-in' type='checkbox'  checked><label for='section-e4f902a8-0b87-4561-959b-671bfbc3ab1c' class='xr-section-summary' >Coordinates: <span>(2)</span></label><div class='xr-section-inline-details'></div><div class='xr-section-details'><ul class='xr-var-list'><li class='xr-var-item'><div class='xr-var-name'><span class='xr-has-index'>time</span></div><div class='xr-var-dims'>(time)</div><div class='xr-var-dtype'>datetime64[ns]</div><div class='xr-var-preview xr-preview'>2015-12-31T17:00:00 ... 2020-12-...</div><input id='attrs-4eec8b1e-7899-40fc-ae66-872754b29f9f' class='xr-var-attrs-in' type='checkbox' disabled><label for='attrs-4eec8b1e-7899-40fc-ae66-872754b29f9f' title='Show/Hide attributes'><svg class='icon xr-icon-file-text2'><use xlink:href='#icon-file-text2'></use></svg></label><input id='data-ad4e5251-5171-423c-9c9b-343c2d65574d' class='xr-var-data-in' type='checkbox'><label for='data-ad4e5251-5171-423c-9c9b-343c2d65574d' title='Show/Hide data repr'><svg class='icon xr-icon-database'><use xlink:href='#icon-database'></use></svg></label><div class='xr-var-attrs'><dl class='xr-attrs'></dl></div><div class='xr-var-data'><pre>array([&#x27;2015-12-31T17:00:00.000000000&#x27;, &#x27;2015-12-31T18:00:00.000000000&#x27;,\n       &#x27;2015-12-31T19:00:00.000000000&#x27;, ..., &#x27;2020-12-31T14:00:00.000000000&#x27;,\n       &#x27;2020-12-31T15:00:00.000000000&#x27;, &#x27;2020-12-31T16:00:00.000000000&#x27;],\n      dtype=&#x27;datetime64[ns]&#x27;)</pre></div></li><li class='xr-var-item'><div class='xr-var-name'><span class='xr-has-index'>record_id</span></div><div class='xr-var-dims'>(record_id)</div><div class='xr-var-dtype'>object</div><div class='xr-var-preview xr-preview'>&#x27;qb&#x27; &#x27;sp&#x27; &#x27;tmw&#x27; &#x27;tpk&#x27; &#x27;tbt&#x27;</div><input id='attrs-a4c76c5f-4163-4cb9-aae5-b992ced680a6' class='xr-var-attrs-in' type='checkbox' disabled><label for='attrs-a4c76c5f-4163-4cb9-aae5-b992ced680a6' title='Show/Hide attributes'><svg class='icon xr-icon-file-text2'><use xlink:href='#icon-file-text2'></use></svg></label><input id='data-7d9d8bbb-7846-4ff6-b4ce-b6467b8ba451' class='xr-var-data-in' type='checkbox'><label for='data-7d9d8bbb-7846-4ff6-b4ce-b6467b8ba451' title='Show/Hide data repr'><svg class='icon xr-icon-database'><use xlink:href='#icon-database'></use></svg></label><div class='xr-var-attrs'><dl class='xr-attrs'></dl></div><div class='xr-var-data'><pre>array([&#x27;qb&#x27;, &#x27;sp&#x27;, &#x27;tmw&#x27;, &#x27;tpk&#x27;, &#x27;tbt&#x27;], dtype=object)</pre></div></li></ul></div></li><li class='xr-section-item'><input id='section-f5ca726c-b781-4712-90bc-9661a1ce39ab' class='xr-section-summary-in' type='checkbox'  checked><label for='section-f5ca726c-b781-4712-90bc-9661a1ce39ab' class='xr-section-summary' >Data variables: <span>(4)</span></label><div class='xr-section-inline-details'></div><div class='xr-section-details'><ul class='xr-var-list'><li class='xr-var-item'><div class='xr-var-name'><span>sea_level</span></div><div class='xr-var-dims'>(record_id, time)</div><div class='xr-var-dtype'>float64</div><div class='xr-var-preview xr-preview'>2.01 2.01 1.87 ... 2.87 2.92 2.85</div><input id='attrs-711514dd-213f-49f6-a80c-7d218e06fe4c' class='xr-var-attrs-in' type='checkbox' disabled><label for='attrs-711514dd-213f-49f6-a80c-7d218e06fe4c' title='Show/Hide attributes'><svg class='icon xr-icon-file-text2'><use xlink:href='#icon-file-text2'></use></svg></label><input id='data-f696f5bf-f26d-4773-b226-2ad57509677b' class='xr-var-data-in' type='checkbox'><label for='data-f696f5bf-f26d-4773-b226-2ad57509677b' title='Show/Hide data repr'><svg class='icon xr-icon-database'><use xlink:href='#icon-database'></use></svg></label><div class='xr-var-attrs'><dl class='xr-attrs'></dl></div><div class='xr-var-data'><pre>array([[ 2.01,  2.01,  1.87, ...,  2.69,  2.63,  2.37],\n       [ 2.05,  2.06,  1.96, ...,  2.72,  2.69,  2.47],\n       [99.99, 99.99, 99.99, ...,  2.68,  2.61,  2.32],\n       [ 1.98,  2.09,  1.99, ...,  2.76,  2.83,  2.59],\n       [ 2.15,  2.18,  2.13, ...,  2.87,  2.92,  2.85]])</pre></div></li><li class='xr-var-item'><div class='xr-var-name'><span>lat</span></div><div class='xr-var-dims'>(record_id)</div><div class='xr-var-dtype'>float64</div><div class='xr-var-preview xr-preview'>22.3 22.22 22.27 22.44 22.49</div><input id='attrs-000ad9a7-520c-4299-9582-712b218268e6' class='xr-var-attrs-in' type='checkbox' disabled><label for='attrs-000ad9a7-520c-4299-9582-712b218268e6' title='Show/Hide attributes'><svg class='icon xr-icon-file-text2'><use xlink:href='#icon-file-text2'></use></svg></label><input id='data-d97814b8-58e9-4fee-bccb-f1f7ea5f6220' class='xr-var-data-in' type='checkbox'><label for='data-d97814b8-58e9-4fee-bccb-f1f7ea5f6220' title='Show/Hide data repr'><svg class='icon xr-icon-database'><use xlink:href='#icon-database'></use></svg></label><div class='xr-var-attrs'><dl class='xr-attrs'></dl></div><div class='xr-var-data'><pre>array([22.3  , 22.22 , 22.27 , 22.443, 22.487])</pre></div></li><li class='xr-var-item'><div class='xr-var-name'><span>lon</span></div><div class='xr-var-dims'>(record_id)</div><div class='xr-var-dtype'>float64</div><div class='xr-var-preview xr-preview'>114.2 113.9 114.3 114.2 114.0</div><input id='attrs-f70683f3-d959-40e2-9c65-09959f1ee11c' class='xr-var-attrs-in' type='checkbox' disabled><label for='attrs-f70683f3-d959-40e2-9c65-09959f1ee11c' title='Show/Hide attributes'><svg class='icon xr-icon-file-text2'><use xlink:href='#icon-file-text2'></use></svg></label><input id='data-1b2eb9fd-4d24-4414-a2c0-7e3dea7b03e7' class='xr-var-data-in' type='checkbox'><label for='data-1b2eb9fd-4d24-4414-a2c0-7e3dea7b03e7' title='Show/Hide data repr'><svg class='icon xr-icon-database'><use xlink:href='#icon-database'></use></svg></label><div class='xr-var-attrs'><dl class='xr-attrs'></dl></div><div class='xr-var-data'><pre>array([114.217, 113.894, 114.289, 114.184, 114.014])</pre></div></li><li class='xr-var-item'><div class='xr-var-name'><span>station_name</span></div><div class='xr-var-dims'>(record_id)</div><div class='xr-var-dtype'>object</div><div class='xr-var-preview xr-preview'>&#x27;qb&#x27; &#x27;sp&#x27; &#x27;tmw&#x27; &#x27;tpk&#x27; &#x27;tbt&#x27;</div><input id='attrs-84be9b18-36ed-4e13-90dc-54528f7eae32' class='xr-var-attrs-in' type='checkbox' ><label for='attrs-84be9b18-36ed-4e13-90dc-54528f7eae32' title='Show/Hide attributes'><svg class='icon xr-icon-file-text2'><use xlink:href='#icon-file-text2'></use></svg></label><input id='data-f24b358c-13f2-411d-bb63-88fb5e6c5b01' class='xr-var-data-in' type='checkbox'><label for='data-f24b358c-13f2-411d-bb63-88fb5e6c5b01' title='Show/Hide data repr'><svg class='icon xr-icon-database'><use xlink:href='#icon-database'></use></svg></label><div class='xr-var-attrs'><dl class='xr-attrs'><dt><span>long_name :</span></dt><dd>Tide gauge data from Hong Kong Observatory</dd></dl></div><div class='xr-var-data'><pre>array([&#x27;qb&#x27;, &#x27;sp&#x27;, &#x27;tmw&#x27;, &#x27;tpk&#x27;, &#x27;tbt&#x27;], dtype=object)</pre></div></li></ul></div></li><li class='xr-section-item'><input id='section-7771eea1-0790-405d-a3c7-393ccab318f6' class='xr-section-summary-in' type='checkbox' disabled ><label for='section-7771eea1-0790-405d-a3c7-393ccab318f6' class='xr-section-summary'  title='Expand/collapse section'>Attributes: <span>(0)</span></label><div class='xr-section-inline-details'></div><div class='xr-section-details'><dl class='xr-attrs'></dl></div></li></ul></div></div>"
     },
     "metadata": {},
     "execution_count": 28
    }
   ],
   "source": [
    "tgauge_qb = xr.open_dataset(path_obser_qb)\n",
    "tgauge_sp = xr.open_dataset(path_obser_sp)\n",
    "tgauge_tmw = xr.open_dataset(path_obser_tmw)\n",
    "tgauge_tpk = xr.open_dataset(path_obser_tpk)\n",
    "tgauge_tsui = xr.open_dataset(path_obser_tsui)\n",
    "\n",
    "tgauge_obser = xr.concat([tgauge_qb, tgauge_sp, tgauge_tmw, tgauge_tpk, tgauge_tsui], dim=\"record_id\")\n",
    "tgauge_obser['station_name'].attrs['long_name'] = 'Tide gauge data from Hong Kong Observatory'\n",
    "tgauge_obser"
   ]
  },
  {
   "cell_type": "code",
   "execution_count": 30,
   "metadata": {},
   "outputs": [],
   "source": [
    "tgauge_obser.to_netcdf(path=path_obser_save)\n"
   ]
  }
 ]
}