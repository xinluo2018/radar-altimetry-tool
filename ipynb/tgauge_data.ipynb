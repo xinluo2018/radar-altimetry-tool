{
 "metadata": {
  "language_info": {
   "codemirror_mode": {
    "name": "ipython",
    "version": 3
   },
   "file_extension": ".py",
   "mimetype": "text/x-python",
   "name": "python",
   "nbconvert_exporter": "python",
   "pygments_lexer": "ipython3",
   "version": "3.8.6-final"
  },
  "orig_nbformat": 2,
  "kernelspec": {
   "name": "python3",
   "display_name": "Python 3",
   "language": "python"
  }
 },
 "nbformat": 4,
 "nbformat_minor": 2,
 "cells": [
  {
   "source": [
    "## Tide gauge data processing\n",
    "#### 1. Convert the .txt file (tide gauge station data from Marine Department) to .nc file\n",
    "#### 2. Update the station name of the gauge station data from Obversatory.\n",
    "#### 3. Merge the tgauge stations data from Marine Department and Obversatory, respectively"
   ],
   "cell_type": "markdown",
   "metadata": {}
  },
  {
   "source": [
    "### Tgauge stations data from Marine Department"
   ],
   "cell_type": "markdown",
   "metadata": {}
  },
  {
   "cell_type": "code",
   "execution_count": 1,
   "metadata": {},
   "outputs": [],
   "source": [
    "import sys\n",
    "sys.path.append(\"../utils\")\n",
    "from get_filesPath import get_filesPath\n",
    "import numpy as np\n",
    "import xarray as xr\n"
   ]
  },
  {
   "source": [
    "### Postition of the tide stations\n",
    "lat_cc, lon_cc = np.array([22.214]), np.array([114.022])  \n",
    "lat_klw, lon_klw = np.array([22.459]), np.array([114.361])  \n",
    "lat_kc, lon_kc = np.array([22.324]), np.array([114.122])  \n",
    "lat_mw, lon_mw = np.array([22.364]), np.array([114.071])  "
   ],
   "cell_type": "markdown",
   "metadata": {}
  },
  {
   "source": [
    "### Super-parameter"
   ],
   "cell_type": "markdown",
   "metadata": {}
  },
  {
   "cell_type": "code",
   "execution_count": 2,
   "metadata": {},
   "outputs": [
    {
     "output_type": "stream",
     "name": "stdout",
     "text": [
      "/Users/luo/OneDrive/SAR-Altimetry/sentinel3-altimetry-l2/data/tgauge_data/marine_department_hk/cheung_chau(cc)\n"
     ]
    }
   ],
   "source": [
    "root_dir = os.path.dirname(os.getcwd())\n",
    "name = ['cc']\n",
    "long_name = 'Cheung Chau from Hong Kong Marine Department'\n",
    "lat, lon = np.array([22.214]), np.array([114.022])\n",
    "dir_md_tgauge = root_dir+'/data/tgauge_data/marine_department_hk/cheung_chau(cc)'\n",
    "pat_to_save = dir_md_tgauge+'/tgauge_cc.nc'\n",
    "print(dir_md_tgauge)\n"
   ]
  },
  {
   "source": [
    "### Extract the time and sea level from the tige files"
   ],
   "cell_type": "markdown",
   "metadata": {}
  },
  {
   "cell_type": "code",
   "execution_count": 3,
   "metadata": {
    "tags": []
   },
   "outputs": [
    {
     "output_type": "stream",
     "name": "stdout",
     "text": [
      ".txt files number: 1827\n",
      "263088\n",
      "263088\n"
     ]
    }
   ],
   "source": [
    "## get files path name\n",
    "files_path = get_filesPath(dir_md_tgauge, key_words='.txt')\n",
    "files_path = sorted(files_path)\n",
    "print('.txt files number:', len(files_path))\n",
    "times = []\n",
    "sea_level = []\n",
    "for file_path in files_path:\n",
    "    f = open(file_path,\"r\")\n",
    "    text = f.read()\n",
    "    text = text.split('\\n')\n",
    "    for i in range(len(text)-1):\n",
    "        time_i = np.datetime64(text[i][0:4]+'-'+text[i][5:7]+'-'+text[i][8:19])\n",
    "        sea_level_i = float(text[i][20:])\n",
    "        times.append(time_i)\n",
    "        sea_level.append(sea_level_i)\n",
    "\n",
    "print(len(times))\n",
    "print(len(sea_level))\n"
   ]
  },
  {
   "source": [
    "### Save as the xarray format"
   ],
   "cell_type": "markdown",
   "metadata": {}
  },
  {
   "cell_type": "code",
   "execution_count": 4,
   "metadata": {},
   "outputs": [
    {
     "output_type": "execute_result",
     "data": {
      "text/plain": [
       "<xarray.Dataset>\n",
       "Dimensions:       (record_id: 1, time: 263088)\n",
       "Coordinates:\n",
       "  * time          (time) datetime64[ns] 2016-01-01 ... 2020-12-31T23:50:00\n",
       "  * record_id     (record_id) <U2 'cc'\n",
       "Data variables:\n",
       "    sea_level     (time) float64 1.95 1.98 1.99 1.99 ... 2.56 2.53 2.48 2.43\n",
       "    lat           (record_id) float64 22.21\n",
       "    lon           (record_id) float64 114.0\n",
       "    station_name  (record_id) <U2 'cc'"
      ],
      "text/html": "<div><svg style=\"position: absolute; width: 0; height: 0; overflow: hidden\">\n<defs>\n<symbol id=\"icon-database\" viewBox=\"0 0 32 32\">\n<path d=\"M16 0c-8.837 0-16 2.239-16 5v4c0 2.761 7.163 5 16 5s16-2.239 16-5v-4c0-2.761-7.163-5-16-5z\"></path>\n<path d=\"M16 17c-8.837 0-16-2.239-16-5v6c0 2.761 7.163 5 16 5s16-2.239 16-5v-6c0 2.761-7.163 5-16 5z\"></path>\n<path d=\"M16 26c-8.837 0-16-2.239-16-5v6c0 2.761 7.163 5 16 5s16-2.239 16-5v-6c0 2.761-7.163 5-16 5z\"></path>\n</symbol>\n<symbol id=\"icon-file-text2\" viewBox=\"0 0 32 32\">\n<path d=\"M28.681 7.159c-0.694-0.947-1.662-2.053-2.724-3.116s-2.169-2.030-3.116-2.724c-1.612-1.182-2.393-1.319-2.841-1.319h-15.5c-1.378 0-2.5 1.121-2.5 2.5v27c0 1.378 1.122 2.5 2.5 2.5h23c1.378 0 2.5-1.122 2.5-2.5v-19.5c0-0.448-0.137-1.23-1.319-2.841zM24.543 5.457c0.959 0.959 1.712 1.825 2.268 2.543h-4.811v-4.811c0.718 0.556 1.584 1.309 2.543 2.268zM28 29.5c0 0.271-0.229 0.5-0.5 0.5h-23c-0.271 0-0.5-0.229-0.5-0.5v-27c0-0.271 0.229-0.5 0.5-0.5 0 0 15.499-0 15.5 0v7c0 0.552 0.448 1 1 1h7v19.5z\"></path>\n<path d=\"M23 26h-14c-0.552 0-1-0.448-1-1s0.448-1 1-1h14c0.552 0 1 0.448 1 1s-0.448 1-1 1z\"></path>\n<path d=\"M23 22h-14c-0.552 0-1-0.448-1-1s0.448-1 1-1h14c0.552 0 1 0.448 1 1s-0.448 1-1 1z\"></path>\n<path d=\"M23 18h-14c-0.552 0-1-0.448-1-1s0.448-1 1-1h14c0.552 0 1 0.448 1 1s-0.448 1-1 1z\"></path>\n</symbol>\n</defs>\n</svg>\n<style>/* CSS stylesheet for displaying xarray objects in jupyterlab.\n *\n */\n\n:root {\n  --xr-font-color0: var(--jp-content-font-color0, rgba(0, 0, 0, 1));\n  --xr-font-color2: var(--jp-content-font-color2, rgba(0, 0, 0, 0.54));\n  --xr-font-color3: var(--jp-content-font-color3, rgba(0, 0, 0, 0.38));\n  --xr-border-color: var(--jp-border-color2, #e0e0e0);\n  --xr-disabled-color: var(--jp-layout-color3, #bdbdbd);\n  --xr-background-color: var(--jp-layout-color0, white);\n  --xr-background-color-row-even: var(--jp-layout-color1, white);\n  --xr-background-color-row-odd: var(--jp-layout-color2, #eeeeee);\n}\n\nhtml[theme=dark],\nbody.vscode-dark {\n  --xr-font-color0: rgba(255, 255, 255, 1);\n  --xr-font-color2: rgba(255, 255, 255, 0.54);\n  --xr-font-color3: rgba(255, 255, 255, 0.38);\n  --xr-border-color: #1F1F1F;\n  --xr-disabled-color: #515151;\n  --xr-background-color: #111111;\n  --xr-background-color-row-even: #111111;\n  --xr-background-color-row-odd: #313131;\n}\n\n.xr-wrap {\n  display: block;\n  min-width: 300px;\n  max-width: 700px;\n}\n\n.xr-text-repr-fallback {\n  /* fallback to plain text repr when CSS is not injected (untrusted notebook) */\n  display: none;\n}\n\n.xr-header {\n  padding-top: 6px;\n  padding-bottom: 6px;\n  margin-bottom: 4px;\n  border-bottom: solid 1px var(--xr-border-color);\n}\n\n.xr-header > div,\n.xr-header > ul {\n  display: inline;\n  margin-top: 0;\n  margin-bottom: 0;\n}\n\n.xr-obj-type,\n.xr-array-name {\n  margin-left: 2px;\n  margin-right: 10px;\n}\n\n.xr-obj-type {\n  color: var(--xr-font-color2);\n}\n\n.xr-sections {\n  padding-left: 0 !important;\n  display: grid;\n  grid-template-columns: 150px auto auto 1fr 20px 20px;\n}\n\n.xr-section-item {\n  display: contents;\n}\n\n.xr-section-item input {\n  display: none;\n}\n\n.xr-section-item input + label {\n  color: var(--xr-disabled-color);\n}\n\n.xr-section-item input:enabled + label {\n  cursor: pointer;\n  color: var(--xr-font-color2);\n}\n\n.xr-section-item input:enabled + label:hover {\n  color: var(--xr-font-color0);\n}\n\n.xr-section-summary {\n  grid-column: 1;\n  color: var(--xr-font-color2);\n  font-weight: 500;\n}\n\n.xr-section-summary > span {\n  display: inline-block;\n  padding-left: 0.5em;\n}\n\n.xr-section-summary-in:disabled + label {\n  color: var(--xr-font-color2);\n}\n\n.xr-section-summary-in + label:before {\n  display: inline-block;\n  content: '►';\n  font-size: 11px;\n  width: 15px;\n  text-align: center;\n}\n\n.xr-section-summary-in:disabled + label:before {\n  color: var(--xr-disabled-color);\n}\n\n.xr-section-summary-in:checked + label:before {\n  content: '▼';\n}\n\n.xr-section-summary-in:checked + label > span {\n  display: none;\n}\n\n.xr-section-summary,\n.xr-section-inline-details {\n  padding-top: 4px;\n  padding-bottom: 4px;\n}\n\n.xr-section-inline-details {\n  grid-column: 2 / -1;\n}\n\n.xr-section-details {\n  display: none;\n  grid-column: 1 / -1;\n  margin-bottom: 5px;\n}\n\n.xr-section-summary-in:checked ~ .xr-section-details {\n  display: contents;\n}\n\n.xr-array-wrap {\n  grid-column: 1 / -1;\n  display: grid;\n  grid-template-columns: 20px auto;\n}\n\n.xr-array-wrap > label {\n  grid-column: 1;\n  vertical-align: top;\n}\n\n.xr-preview {\n  color: var(--xr-font-color3);\n}\n\n.xr-array-preview,\n.xr-array-data {\n  padding: 0 5px !important;\n  grid-column: 2;\n}\n\n.xr-array-data,\n.xr-array-in:checked ~ .xr-array-preview {\n  display: none;\n}\n\n.xr-array-in:checked ~ .xr-array-data,\n.xr-array-preview {\n  display: inline-block;\n}\n\n.xr-dim-list {\n  display: inline-block !important;\n  list-style: none;\n  padding: 0 !important;\n  margin: 0;\n}\n\n.xr-dim-list li {\n  display: inline-block;\n  padding: 0;\n  margin: 0;\n}\n\n.xr-dim-list:before {\n  content: '(';\n}\n\n.xr-dim-list:after {\n  content: ')';\n}\n\n.xr-dim-list li:not(:last-child):after {\n  content: ',';\n  padding-right: 5px;\n}\n\n.xr-has-index {\n  font-weight: bold;\n}\n\n.xr-var-list,\n.xr-var-item {\n  display: contents;\n}\n\n.xr-var-item > div,\n.xr-var-item label,\n.xr-var-item > .xr-var-name span {\n  background-color: var(--xr-background-color-row-even);\n  margin-bottom: 0;\n}\n\n.xr-var-item > .xr-var-name:hover span {\n  padding-right: 5px;\n}\n\n.xr-var-list > li:nth-child(odd) > div,\n.xr-var-list > li:nth-child(odd) > label,\n.xr-var-list > li:nth-child(odd) > .xr-var-name span {\n  background-color: var(--xr-background-color-row-odd);\n}\n\n.xr-var-name {\n  grid-column: 1;\n}\n\n.xr-var-dims {\n  grid-column: 2;\n}\n\n.xr-var-dtype {\n  grid-column: 3;\n  text-align: right;\n  color: var(--xr-font-color2);\n}\n\n.xr-var-preview {\n  grid-column: 4;\n}\n\n.xr-var-name,\n.xr-var-dims,\n.xr-var-dtype,\n.xr-preview,\n.xr-attrs dt {\n  white-space: nowrap;\n  overflow: hidden;\n  text-overflow: ellipsis;\n  padding-right: 10px;\n}\n\n.xr-var-name:hover,\n.xr-var-dims:hover,\n.xr-var-dtype:hover,\n.xr-attrs dt:hover {\n  overflow: visible;\n  width: auto;\n  z-index: 1;\n}\n\n.xr-var-attrs,\n.xr-var-data {\n  display: none;\n  background-color: var(--xr-background-color) !important;\n  padding-bottom: 5px !important;\n}\n\n.xr-var-attrs-in:checked ~ .xr-var-attrs,\n.xr-var-data-in:checked ~ .xr-var-data {\n  display: block;\n}\n\n.xr-var-data > table {\n  float: right;\n}\n\n.xr-var-name span,\n.xr-var-data,\n.xr-attrs {\n  padding-left: 25px !important;\n}\n\n.xr-attrs,\n.xr-var-attrs,\n.xr-var-data {\n  grid-column: 1 / -1;\n}\n\ndl.xr-attrs {\n  padding: 0;\n  margin: 0;\n  display: grid;\n  grid-template-columns: 125px auto;\n}\n\n.xr-attrs dt,\n.xr-attrs dd {\n  padding: 0;\n  margin: 0;\n  float: left;\n  padding-right: 10px;\n  width: auto;\n}\n\n.xr-attrs dt {\n  font-weight: normal;\n  grid-column: 1;\n}\n\n.xr-attrs dt:hover span {\n  display: inline-block;\n  background: var(--xr-background-color);\n  padding-right: 10px;\n}\n\n.xr-attrs dd {\n  grid-column: 2;\n  white-space: pre-wrap;\n  word-break: break-all;\n}\n\n.xr-icon-database,\n.xr-icon-file-text2 {\n  display: inline-block;\n  vertical-align: middle;\n  width: 1em;\n  height: 1.5em !important;\n  stroke-width: 0;\n  stroke: currentColor;\n  fill: currentColor;\n}\n</style><pre class='xr-text-repr-fallback'>&lt;xarray.Dataset&gt;\nDimensions:       (record_id: 1, time: 263088)\nCoordinates:\n  * time          (time) datetime64[ns] 2016-01-01 ... 2020-12-31T23:50:00\n  * record_id     (record_id) &lt;U2 &#x27;cc&#x27;\nData variables:\n    sea_level     (time) float64 1.95 1.98 1.99 1.99 ... 2.56 2.53 2.48 2.43\n    lat           (record_id) float64 22.21\n    lon           (record_id) float64 114.0\n    station_name  (record_id) &lt;U2 &#x27;cc&#x27;</pre><div class='xr-wrap' hidden><div class='xr-header'><div class='xr-obj-type'>xarray.Dataset</div></div><ul class='xr-sections'><li class='xr-section-item'><input id='section-87d8aa0b-e222-4fa5-88ea-82813e103251' class='xr-section-summary-in' type='checkbox' disabled ><label for='section-87d8aa0b-e222-4fa5-88ea-82813e103251' class='xr-section-summary'  title='Expand/collapse section'>Dimensions:</label><div class='xr-section-inline-details'><ul class='xr-dim-list'><li><span class='xr-has-index'>record_id</span>: 1</li><li><span class='xr-has-index'>time</span>: 263088</li></ul></div><div class='xr-section-details'></div></li><li class='xr-section-item'><input id='section-1b6bb50e-a142-4121-b4ba-dfc91c0fc278' class='xr-section-summary-in' type='checkbox'  checked><label for='section-1b6bb50e-a142-4121-b4ba-dfc91c0fc278' class='xr-section-summary' >Coordinates: <span>(2)</span></label><div class='xr-section-inline-details'></div><div class='xr-section-details'><ul class='xr-var-list'><li class='xr-var-item'><div class='xr-var-name'><span class='xr-has-index'>time</span></div><div class='xr-var-dims'>(time)</div><div class='xr-var-dtype'>datetime64[ns]</div><div class='xr-var-preview xr-preview'>2016-01-01 ... 2020-12-31T23:50:00</div><input id='attrs-433c7dcb-d350-4925-968b-b5ed2aad1ede' class='xr-var-attrs-in' type='checkbox' disabled><label for='attrs-433c7dcb-d350-4925-968b-b5ed2aad1ede' title='Show/Hide attributes'><svg class='icon xr-icon-file-text2'><use xlink:href='#icon-file-text2'></use></svg></label><input id='data-cbc4b546-c331-4faf-9415-95ed86b9a3c4' class='xr-var-data-in' type='checkbox'><label for='data-cbc4b546-c331-4faf-9415-95ed86b9a3c4' title='Show/Hide data repr'><svg class='icon xr-icon-database'><use xlink:href='#icon-database'></use></svg></label><div class='xr-var-attrs'><dl class='xr-attrs'></dl></div><div class='xr-var-data'><pre>array([&#x27;2016-01-01T00:00:00.000000000&#x27;, &#x27;2016-01-01T00:10:00.000000000&#x27;,\n       &#x27;2016-01-01T00:20:00.000000000&#x27;, ..., &#x27;2020-12-31T23:30:00.000000000&#x27;,\n       &#x27;2020-12-31T23:40:00.000000000&#x27;, &#x27;2020-12-31T23:50:00.000000000&#x27;],\n      dtype=&#x27;datetime64[ns]&#x27;)</pre></div></li><li class='xr-var-item'><div class='xr-var-name'><span class='xr-has-index'>record_id</span></div><div class='xr-var-dims'>(record_id)</div><div class='xr-var-dtype'>&lt;U2</div><div class='xr-var-preview xr-preview'>&#x27;cc&#x27;</div><input id='attrs-b3bc1eae-81b9-4b37-9ed9-d68d6d650f79' class='xr-var-attrs-in' type='checkbox' disabled><label for='attrs-b3bc1eae-81b9-4b37-9ed9-d68d6d650f79' title='Show/Hide attributes'><svg class='icon xr-icon-file-text2'><use xlink:href='#icon-file-text2'></use></svg></label><input id='data-da6762bb-6e24-4cc1-8fae-f098b8d780b4' class='xr-var-data-in' type='checkbox'><label for='data-da6762bb-6e24-4cc1-8fae-f098b8d780b4' title='Show/Hide data repr'><svg class='icon xr-icon-database'><use xlink:href='#icon-database'></use></svg></label><div class='xr-var-attrs'><dl class='xr-attrs'></dl></div><div class='xr-var-data'><pre>array([&#x27;cc&#x27;], dtype=&#x27;&lt;U2&#x27;)</pre></div></li></ul></div></li><li class='xr-section-item'><input id='section-d83f2c27-8ee4-467b-ab4f-0b551b411ed6' class='xr-section-summary-in' type='checkbox'  checked><label for='section-d83f2c27-8ee4-467b-ab4f-0b551b411ed6' class='xr-section-summary' >Data variables: <span>(4)</span></label><div class='xr-section-inline-details'></div><div class='xr-section-details'><ul class='xr-var-list'><li class='xr-var-item'><div class='xr-var-name'><span>sea_level</span></div><div class='xr-var-dims'>(time)</div><div class='xr-var-dtype'>float64</div><div class='xr-var-preview xr-preview'>1.95 1.98 1.99 ... 2.53 2.48 2.43</div><input id='attrs-4289a9ae-fc9f-4805-9a72-43e86cb4713f' class='xr-var-attrs-in' type='checkbox' disabled><label for='attrs-4289a9ae-fc9f-4805-9a72-43e86cb4713f' title='Show/Hide attributes'><svg class='icon xr-icon-file-text2'><use xlink:href='#icon-file-text2'></use></svg></label><input id='data-52506fd2-ce82-486c-a35d-586e5acbf153' class='xr-var-data-in' type='checkbox'><label for='data-52506fd2-ce82-486c-a35d-586e5acbf153' title='Show/Hide data repr'><svg class='icon xr-icon-database'><use xlink:href='#icon-database'></use></svg></label><div class='xr-var-attrs'><dl class='xr-attrs'></dl></div><div class='xr-var-data'><pre>array([1.95, 1.98, 1.99, ..., 2.53, 2.48, 2.43])</pre></div></li><li class='xr-var-item'><div class='xr-var-name'><span>lat</span></div><div class='xr-var-dims'>(record_id)</div><div class='xr-var-dtype'>float64</div><div class='xr-var-preview xr-preview'>22.21</div><input id='attrs-6563915f-444c-473f-b466-42faac3aaba2' class='xr-var-attrs-in' type='checkbox' disabled><label for='attrs-6563915f-444c-473f-b466-42faac3aaba2' title='Show/Hide attributes'><svg class='icon xr-icon-file-text2'><use xlink:href='#icon-file-text2'></use></svg></label><input id='data-85fa3a48-2aa6-4a0d-a1b1-1d6bf22321f9' class='xr-var-data-in' type='checkbox'><label for='data-85fa3a48-2aa6-4a0d-a1b1-1d6bf22321f9' title='Show/Hide data repr'><svg class='icon xr-icon-database'><use xlink:href='#icon-database'></use></svg></label><div class='xr-var-attrs'><dl class='xr-attrs'></dl></div><div class='xr-var-data'><pre>array([22.214])</pre></div></li><li class='xr-var-item'><div class='xr-var-name'><span>lon</span></div><div class='xr-var-dims'>(record_id)</div><div class='xr-var-dtype'>float64</div><div class='xr-var-preview xr-preview'>114.0</div><input id='attrs-39b41128-0724-4209-822f-7fdbc560d4d4' class='xr-var-attrs-in' type='checkbox' disabled><label for='attrs-39b41128-0724-4209-822f-7fdbc560d4d4' title='Show/Hide attributes'><svg class='icon xr-icon-file-text2'><use xlink:href='#icon-file-text2'></use></svg></label><input id='data-9624d0a7-22e0-4f9f-9278-1f99e9e56256' class='xr-var-data-in' type='checkbox'><label for='data-9624d0a7-22e0-4f9f-9278-1f99e9e56256' title='Show/Hide data repr'><svg class='icon xr-icon-database'><use xlink:href='#icon-database'></use></svg></label><div class='xr-var-attrs'><dl class='xr-attrs'></dl></div><div class='xr-var-data'><pre>array([114.022])</pre></div></li><li class='xr-var-item'><div class='xr-var-name'><span>station_name</span></div><div class='xr-var-dims'>(record_id)</div><div class='xr-var-dtype'>&lt;U2</div><div class='xr-var-preview xr-preview'>&#x27;cc&#x27;</div><input id='attrs-1d33e9f7-68f4-41a0-9910-e058bb2e5db5' class='xr-var-attrs-in' type='checkbox' ><label for='attrs-1d33e9f7-68f4-41a0-9910-e058bb2e5db5' title='Show/Hide attributes'><svg class='icon xr-icon-file-text2'><use xlink:href='#icon-file-text2'></use></svg></label><input id='data-de8dc225-c1aa-4f68-8f1e-6de21eab0bb6' class='xr-var-data-in' type='checkbox'><label for='data-de8dc225-c1aa-4f68-8f1e-6de21eab0bb6' title='Show/Hide data repr'><svg class='icon xr-icon-database'><use xlink:href='#icon-database'></use></svg></label><div class='xr-var-attrs'><dl class='xr-attrs'><dt><span>long_name :</span></dt><dd>Cheung Chau from Hong Kong Marine Department</dd></dl></div><div class='xr-var-data'><pre>array([&#x27;cc&#x27;], dtype=&#x27;&lt;U2&#x27;)</pre></div></li></ul></div></li><li class='xr-section-item'><input id='section-3d5eb3ad-b3cb-4b35-895f-f82f6056e1b9' class='xr-section-summary-in' type='checkbox' disabled ><label for='section-3d5eb3ad-b3cb-4b35-895f-f82f6056e1b9' class='xr-section-summary'  title='Expand/collapse section'>Attributes: <span>(0)</span></label><div class='xr-section-inline-details'></div><div class='xr-section-details'><dl class='xr-attrs'></dl></div></li></ul></div></div>"
     },
     "metadata": {},
     "execution_count": 4
    }
   ],
   "source": [
    "dset = xr.Dataset({\n",
    "    'sea_level': xr.DataArray(\n",
    "        data = sea_level,\n",
    "        dims = ['time'],\n",
    "        coords = {'time': times},\n",
    "    ),\n",
    "    'lat': xr.DataArray(\n",
    "        data = lat,\n",
    "        dims= 'record_id',\n",
    "        coords = {'record_id': name},\n",
    "    ),\n",
    "    'lon': xr.DataArray(\n",
    "        data = lon,\n",
    "        dims= 'record_id',\n",
    "        coords = {'record_id': name},\n",
    "    ),\n",
    "    'station_name': xr.DataArray(\n",
    "        data = name,\n",
    "        dims= 'record_id',\n",
    "        coords = {'record_id': name},\n",
    "        attrs={'long_name': long_name}\n",
    "    )})\n",
    "dset\n"
   ]
  },
  {
   "source": [
    "#### Save the tgauge data"
   ],
   "cell_type": "markdown",
   "metadata": {}
  },
  {
   "cell_type": "code",
   "execution_count": 5,
   "metadata": {},
   "outputs": [],
   "source": [
    "# dset.to_netcdf(path=pat_to_save)\n"
   ]
  },
  {
   "source": [
    "### Merge all the tgauge stations data from Marine Department"
   ],
   "cell_type": "markdown",
   "metadata": {}
  },
  {
   "cell_type": "code",
   "execution_count": 78,
   "metadata": {},
   "outputs": [],
   "source": [
    "path_md_cc = root_dir+'/data/tgauge_data/marine_department_hk/cheung_chau(cc)/tgauge_cc.nc'\n",
    "path_md_klw = root_dir+'/data/tgauge_data/marine_department_hk/ko_lau_wan(klw)/tgauge_klw.nc'\n",
    "path_md_kc = root_dir+'/data/tgauge_data/marine_department_hk/kwai_chung(kc)/tgauge_kc.nc'\n",
    "path_md_mw = root_dir+'/data/tgauge_data/marine_department_hk/ma_wan(mw)/tgauge_mw.nc'\n",
    "path_md_save = root_dir+'/data/tgauge_data/marine_department_hk/tgauge_md.nc'"
   ]
  },
  {
   "cell_type": "code",
   "execution_count": 87,
   "metadata": {},
   "outputs": [
    {
     "output_type": "execute_result",
     "data": {
      "text/plain": [
       "<xarray.Dataset>\n",
       "Dimensions:       (record_id: 4, time: 263088)\n",
       "Coordinates:\n",
       "  * time          (time) datetime64[ns] 2016-01-01 ... 2020-12-31T23:50:00\n",
       "  * record_id     (record_id) object 'cc' 'klw' 'kc' 'mw'\n",
       "Data variables:\n",
       "    sea_level     (record_id, time) float64 1.95 1.98 1.99 ... 2.59 2.55 2.5\n",
       "    lat           (record_id) float64 22.21 22.5 22.32 22.36\n",
       "    lon           (record_id) float64 114.0 114.4 114.1 114.1\n",
       "    station_name  (record_id) object 'cc' 'klw' 'kc' 'mw'"
      ],
      "text/html": "<div><svg style=\"position: absolute; width: 0; height: 0; overflow: hidden\">\n<defs>\n<symbol id=\"icon-database\" viewBox=\"0 0 32 32\">\n<path d=\"M16 0c-8.837 0-16 2.239-16 5v4c0 2.761 7.163 5 16 5s16-2.239 16-5v-4c0-2.761-7.163-5-16-5z\"></path>\n<path d=\"M16 17c-8.837 0-16-2.239-16-5v6c0 2.761 7.163 5 16 5s16-2.239 16-5v-6c0 2.761-7.163 5-16 5z\"></path>\n<path d=\"M16 26c-8.837 0-16-2.239-16-5v6c0 2.761 7.163 5 16 5s16-2.239 16-5v-6c0 2.761-7.163 5-16 5z\"></path>\n</symbol>\n<symbol id=\"icon-file-text2\" viewBox=\"0 0 32 32\">\n<path d=\"M28.681 7.159c-0.694-0.947-1.662-2.053-2.724-3.116s-2.169-2.030-3.116-2.724c-1.612-1.182-2.393-1.319-2.841-1.319h-15.5c-1.378 0-2.5 1.121-2.5 2.5v27c0 1.378 1.122 2.5 2.5 2.5h23c1.378 0 2.5-1.122 2.5-2.5v-19.5c0-0.448-0.137-1.23-1.319-2.841zM24.543 5.457c0.959 0.959 1.712 1.825 2.268 2.543h-4.811v-4.811c0.718 0.556 1.584 1.309 2.543 2.268zM28 29.5c0 0.271-0.229 0.5-0.5 0.5h-23c-0.271 0-0.5-0.229-0.5-0.5v-27c0-0.271 0.229-0.5 0.5-0.5 0 0 15.499-0 15.5 0v7c0 0.552 0.448 1 1 1h7v19.5z\"></path>\n<path d=\"M23 26h-14c-0.552 0-1-0.448-1-1s0.448-1 1-1h14c0.552 0 1 0.448 1 1s-0.448 1-1 1z\"></path>\n<path d=\"M23 22h-14c-0.552 0-1-0.448-1-1s0.448-1 1-1h14c0.552 0 1 0.448 1 1s-0.448 1-1 1z\"></path>\n<path d=\"M23 18h-14c-0.552 0-1-0.448-1-1s0.448-1 1-1h14c0.552 0 1 0.448 1 1s-0.448 1-1 1z\"></path>\n</symbol>\n</defs>\n</svg>\n<style>/* CSS stylesheet for displaying xarray objects in jupyterlab.\n *\n */\n\n:root {\n  --xr-font-color0: var(--jp-content-font-color0, rgba(0, 0, 0, 1));\n  --xr-font-color2: var(--jp-content-font-color2, rgba(0, 0, 0, 0.54));\n  --xr-font-color3: var(--jp-content-font-color3, rgba(0, 0, 0, 0.38));\n  --xr-border-color: var(--jp-border-color2, #e0e0e0);\n  --xr-disabled-color: var(--jp-layout-color3, #bdbdbd);\n  --xr-background-color: var(--jp-layout-color0, white);\n  --xr-background-color-row-even: var(--jp-layout-color1, white);\n  --xr-background-color-row-odd: var(--jp-layout-color2, #eeeeee);\n}\n\nhtml[theme=dark],\nbody.vscode-dark {\n  --xr-font-color0: rgba(255, 255, 255, 1);\n  --xr-font-color2: rgba(255, 255, 255, 0.54);\n  --xr-font-color3: rgba(255, 255, 255, 0.38);\n  --xr-border-color: #1F1F1F;\n  --xr-disabled-color: #515151;\n  --xr-background-color: #111111;\n  --xr-background-color-row-even: #111111;\n  --xr-background-color-row-odd: #313131;\n}\n\n.xr-wrap {\n  display: block;\n  min-width: 300px;\n  max-width: 700px;\n}\n\n.xr-text-repr-fallback {\n  /* fallback to plain text repr when CSS is not injected (untrusted notebook) */\n  display: none;\n}\n\n.xr-header {\n  padding-top: 6px;\n  padding-bottom: 6px;\n  margin-bottom: 4px;\n  border-bottom: solid 1px var(--xr-border-color);\n}\n\n.xr-header > div,\n.xr-header > ul {\n  display: inline;\n  margin-top: 0;\n  margin-bottom: 0;\n}\n\n.xr-obj-type,\n.xr-array-name {\n  margin-left: 2px;\n  margin-right: 10px;\n}\n\n.xr-obj-type {\n  color: var(--xr-font-color2);\n}\n\n.xr-sections {\n  padding-left: 0 !important;\n  display: grid;\n  grid-template-columns: 150px auto auto 1fr 20px 20px;\n}\n\n.xr-section-item {\n  display: contents;\n}\n\n.xr-section-item input {\n  display: none;\n}\n\n.xr-section-item input + label {\n  color: var(--xr-disabled-color);\n}\n\n.xr-section-item input:enabled + label {\n  cursor: pointer;\n  color: var(--xr-font-color2);\n}\n\n.xr-section-item input:enabled + label:hover {\n  color: var(--xr-font-color0);\n}\n\n.xr-section-summary {\n  grid-column: 1;\n  color: var(--xr-font-color2);\n  font-weight: 500;\n}\n\n.xr-section-summary > span {\n  display: inline-block;\n  padding-left: 0.5em;\n}\n\n.xr-section-summary-in:disabled + label {\n  color: var(--xr-font-color2);\n}\n\n.xr-section-summary-in + label:before {\n  display: inline-block;\n  content: '►';\n  font-size: 11px;\n  width: 15px;\n  text-align: center;\n}\n\n.xr-section-summary-in:disabled + label:before {\n  color: var(--xr-disabled-color);\n}\n\n.xr-section-summary-in:checked + label:before {\n  content: '▼';\n}\n\n.xr-section-summary-in:checked + label > span {\n  display: none;\n}\n\n.xr-section-summary,\n.xr-section-inline-details {\n  padding-top: 4px;\n  padding-bottom: 4px;\n}\n\n.xr-section-inline-details {\n  grid-column: 2 / -1;\n}\n\n.xr-section-details {\n  display: none;\n  grid-column: 1 / -1;\n  margin-bottom: 5px;\n}\n\n.xr-section-summary-in:checked ~ .xr-section-details {\n  display: contents;\n}\n\n.xr-array-wrap {\n  grid-column: 1 / -1;\n  display: grid;\n  grid-template-columns: 20px auto;\n}\n\n.xr-array-wrap > label {\n  grid-column: 1;\n  vertical-align: top;\n}\n\n.xr-preview {\n  color: var(--xr-font-color3);\n}\n\n.xr-array-preview,\n.xr-array-data {\n  padding: 0 5px !important;\n  grid-column: 2;\n}\n\n.xr-array-data,\n.xr-array-in:checked ~ .xr-array-preview {\n  display: none;\n}\n\n.xr-array-in:checked ~ .xr-array-data,\n.xr-array-preview {\n  display: inline-block;\n}\n\n.xr-dim-list {\n  display: inline-block !important;\n  list-style: none;\n  padding: 0 !important;\n  margin: 0;\n}\n\n.xr-dim-list li {\n  display: inline-block;\n  padding: 0;\n  margin: 0;\n}\n\n.xr-dim-list:before {\n  content: '(';\n}\n\n.xr-dim-list:after {\n  content: ')';\n}\n\n.xr-dim-list li:not(:last-child):after {\n  content: ',';\n  padding-right: 5px;\n}\n\n.xr-has-index {\n  font-weight: bold;\n}\n\n.xr-var-list,\n.xr-var-item {\n  display: contents;\n}\n\n.xr-var-item > div,\n.xr-var-item label,\n.xr-var-item > .xr-var-name span {\n  background-color: var(--xr-background-color-row-even);\n  margin-bottom: 0;\n}\n\n.xr-var-item > .xr-var-name:hover span {\n  padding-right: 5px;\n}\n\n.xr-var-list > li:nth-child(odd) > div,\n.xr-var-list > li:nth-child(odd) > label,\n.xr-var-list > li:nth-child(odd) > .xr-var-name span {\n  background-color: var(--xr-background-color-row-odd);\n}\n\n.xr-var-name {\n  grid-column: 1;\n}\n\n.xr-var-dims {\n  grid-column: 2;\n}\n\n.xr-var-dtype {\n  grid-column: 3;\n  text-align: right;\n  color: var(--xr-font-color2);\n}\n\n.xr-var-preview {\n  grid-column: 4;\n}\n\n.xr-var-name,\n.xr-var-dims,\n.xr-var-dtype,\n.xr-preview,\n.xr-attrs dt {\n  white-space: nowrap;\n  overflow: hidden;\n  text-overflow: ellipsis;\n  padding-right: 10px;\n}\n\n.xr-var-name:hover,\n.xr-var-dims:hover,\n.xr-var-dtype:hover,\n.xr-attrs dt:hover {\n  overflow: visible;\n  width: auto;\n  z-index: 1;\n}\n\n.xr-var-attrs,\n.xr-var-data {\n  display: none;\n  background-color: var(--xr-background-color) !important;\n  padding-bottom: 5px !important;\n}\n\n.xr-var-attrs-in:checked ~ .xr-var-attrs,\n.xr-var-data-in:checked ~ .xr-var-data {\n  display: block;\n}\n\n.xr-var-data > table {\n  float: right;\n}\n\n.xr-var-name span,\n.xr-var-data,\n.xr-attrs {\n  padding-left: 25px !important;\n}\n\n.xr-attrs,\n.xr-var-attrs,\n.xr-var-data {\n  grid-column: 1 / -1;\n}\n\ndl.xr-attrs {\n  padding: 0;\n  margin: 0;\n  display: grid;\n  grid-template-columns: 125px auto;\n}\n\n.xr-attrs dt,\n.xr-attrs dd {\n  padding: 0;\n  margin: 0;\n  float: left;\n  padding-right: 10px;\n  width: auto;\n}\n\n.xr-attrs dt {\n  font-weight: normal;\n  grid-column: 1;\n}\n\n.xr-attrs dt:hover span {\n  display: inline-block;\n  background: var(--xr-background-color);\n  padding-right: 10px;\n}\n\n.xr-attrs dd {\n  grid-column: 2;\n  white-space: pre-wrap;\n  word-break: break-all;\n}\n\n.xr-icon-database,\n.xr-icon-file-text2 {\n  display: inline-block;\n  vertical-align: middle;\n  width: 1em;\n  height: 1.5em !important;\n  stroke-width: 0;\n  stroke: currentColor;\n  fill: currentColor;\n}\n</style><pre class='xr-text-repr-fallback'>&lt;xarray.Dataset&gt;\nDimensions:       (record_id: 4, time: 263088)\nCoordinates:\n  * time          (time) datetime64[ns] 2016-01-01 ... 2020-12-31T23:50:00\n  * record_id     (record_id) object &#x27;cc&#x27; &#x27;klw&#x27; &#x27;kc&#x27; &#x27;mw&#x27;\nData variables:\n    sea_level     (record_id, time) float64 1.95 1.98 1.99 ... 2.59 2.55 2.5\n    lat           (record_id) float64 22.21 22.5 22.32 22.36\n    lon           (record_id) float64 114.0 114.4 114.1 114.1\n    station_name  (record_id) object &#x27;cc&#x27; &#x27;klw&#x27; &#x27;kc&#x27; &#x27;mw&#x27;</pre><div class='xr-wrap' hidden><div class='xr-header'><div class='xr-obj-type'>xarray.Dataset</div></div><ul class='xr-sections'><li class='xr-section-item'><input id='section-6f1aa622-87c4-4fc9-a13e-74179c6b2021' class='xr-section-summary-in' type='checkbox' disabled ><label for='section-6f1aa622-87c4-4fc9-a13e-74179c6b2021' class='xr-section-summary'  title='Expand/collapse section'>Dimensions:</label><div class='xr-section-inline-details'><ul class='xr-dim-list'><li><span class='xr-has-index'>record_id</span>: 4</li><li><span class='xr-has-index'>time</span>: 263088</li></ul></div><div class='xr-section-details'></div></li><li class='xr-section-item'><input id='section-7e9dbf24-7c4d-4c50-8619-aee9a8ccdb80' class='xr-section-summary-in' type='checkbox'  checked><label for='section-7e9dbf24-7c4d-4c50-8619-aee9a8ccdb80' class='xr-section-summary' >Coordinates: <span>(2)</span></label><div class='xr-section-inline-details'></div><div class='xr-section-details'><ul class='xr-var-list'><li class='xr-var-item'><div class='xr-var-name'><span class='xr-has-index'>time</span></div><div class='xr-var-dims'>(time)</div><div class='xr-var-dtype'>datetime64[ns]</div><div class='xr-var-preview xr-preview'>2016-01-01 ... 2020-12-31T23:50:00</div><input id='attrs-565e8d40-3298-4ec5-ba98-456d38b16f27' class='xr-var-attrs-in' type='checkbox' disabled><label for='attrs-565e8d40-3298-4ec5-ba98-456d38b16f27' title='Show/Hide attributes'><svg class='icon xr-icon-file-text2'><use xlink:href='#icon-file-text2'></use></svg></label><input id='data-6afccc86-d381-4632-b350-98b85d27e2b0' class='xr-var-data-in' type='checkbox'><label for='data-6afccc86-d381-4632-b350-98b85d27e2b0' title='Show/Hide data repr'><svg class='icon xr-icon-database'><use xlink:href='#icon-database'></use></svg></label><div class='xr-var-attrs'><dl class='xr-attrs'></dl></div><div class='xr-var-data'><pre>array([&#x27;2016-01-01T00:00:00.000000000&#x27;, &#x27;2016-01-01T00:10:00.000000000&#x27;,\n       &#x27;2016-01-01T00:20:00.000000000&#x27;, ..., &#x27;2020-12-31T23:30:00.000000000&#x27;,\n       &#x27;2020-12-31T23:40:00.000000000&#x27;, &#x27;2020-12-31T23:50:00.000000000&#x27;],\n      dtype=&#x27;datetime64[ns]&#x27;)</pre></div></li><li class='xr-var-item'><div class='xr-var-name'><span class='xr-has-index'>record_id</span></div><div class='xr-var-dims'>(record_id)</div><div class='xr-var-dtype'>object</div><div class='xr-var-preview xr-preview'>&#x27;cc&#x27; &#x27;klw&#x27; &#x27;kc&#x27; &#x27;mw&#x27;</div><input id='attrs-4615ca71-3319-4377-882f-6b24355780ed' class='xr-var-attrs-in' type='checkbox' disabled><label for='attrs-4615ca71-3319-4377-882f-6b24355780ed' title='Show/Hide attributes'><svg class='icon xr-icon-file-text2'><use xlink:href='#icon-file-text2'></use></svg></label><input id='data-39aa7826-da78-4577-b7e9-36482a6c3b8a' class='xr-var-data-in' type='checkbox'><label for='data-39aa7826-da78-4577-b7e9-36482a6c3b8a' title='Show/Hide data repr'><svg class='icon xr-icon-database'><use xlink:href='#icon-database'></use></svg></label><div class='xr-var-attrs'><dl class='xr-attrs'></dl></div><div class='xr-var-data'><pre>array([&#x27;cc&#x27;, &#x27;klw&#x27;, &#x27;kc&#x27;, &#x27;mw&#x27;], dtype=object)</pre></div></li></ul></div></li><li class='xr-section-item'><input id='section-afcd9e53-4b95-4a20-93e8-fe2ceeb0c6ba' class='xr-section-summary-in' type='checkbox'  checked><label for='section-afcd9e53-4b95-4a20-93e8-fe2ceeb0c6ba' class='xr-section-summary' >Data variables: <span>(4)</span></label><div class='xr-section-inline-details'></div><div class='xr-section-details'><ul class='xr-var-list'><li class='xr-var-item'><div class='xr-var-name'><span>sea_level</span></div><div class='xr-var-dims'>(record_id, time)</div><div class='xr-var-dtype'>float64</div><div class='xr-var-preview xr-preview'>1.95 1.98 1.99 ... 2.59 2.55 2.5</div><input id='attrs-67891af5-7c04-42fa-8be5-9574e25a62ec' class='xr-var-attrs-in' type='checkbox' disabled><label for='attrs-67891af5-7c04-42fa-8be5-9574e25a62ec' title='Show/Hide attributes'><svg class='icon xr-icon-file-text2'><use xlink:href='#icon-file-text2'></use></svg></label><input id='data-7a6852db-1cac-4fcc-87e4-304f8c2b2d64' class='xr-var-data-in' type='checkbox'><label for='data-7a6852db-1cac-4fcc-87e4-304f8c2b2d64' title='Show/Hide data repr'><svg class='icon xr-icon-database'><use xlink:href='#icon-database'></use></svg></label><div class='xr-var-attrs'><dl class='xr-attrs'></dl></div><div class='xr-var-data'><pre>array([[1.95, 1.98, 1.99, ..., 2.53, 2.48, 2.43],\n       [1.86, 1.89, 1.93, ..., 2.46, 2.4 , 2.33],\n       [1.99, 2.01, 2.02, ..., 2.58, 2.53, 2.48],\n       [1.96, 1.98, 1.99, ..., 2.59, 2.55, 2.5 ]])</pre></div></li><li class='xr-var-item'><div class='xr-var-name'><span>lat</span></div><div class='xr-var-dims'>(record_id)</div><div class='xr-var-dtype'>float64</div><div class='xr-var-preview xr-preview'>22.21 22.5 22.32 22.36</div><input id='attrs-40562997-94c1-4b67-8082-b8fe7493941c' class='xr-var-attrs-in' type='checkbox' disabled><label for='attrs-40562997-94c1-4b67-8082-b8fe7493941c' title='Show/Hide attributes'><svg class='icon xr-icon-file-text2'><use xlink:href='#icon-file-text2'></use></svg></label><input id='data-a2211208-5b84-4e2b-9265-bd1abe9c7b65' class='xr-var-data-in' type='checkbox'><label for='data-a2211208-5b84-4e2b-9265-bd1abe9c7b65' title='Show/Hide data repr'><svg class='icon xr-icon-database'><use xlink:href='#icon-database'></use></svg></label><div class='xr-var-attrs'><dl class='xr-attrs'></dl></div><div class='xr-var-data'><pre>array([22.214, 22.495, 22.324, 22.364])</pre></div></li><li class='xr-var-item'><div class='xr-var-name'><span>lon</span></div><div class='xr-var-dims'>(record_id)</div><div class='xr-var-dtype'>float64</div><div class='xr-var-preview xr-preview'>114.0 114.4 114.1 114.1</div><input id='attrs-d7cb9284-c7a7-496e-a041-99ea6a961bbc' class='xr-var-attrs-in' type='checkbox' disabled><label for='attrs-d7cb9284-c7a7-496e-a041-99ea6a961bbc' title='Show/Hide attributes'><svg class='icon xr-icon-file-text2'><use xlink:href='#icon-file-text2'></use></svg></label><input id='data-ecfc2458-10ff-44a0-8583-f68cfc1fedd2' class='xr-var-data-in' type='checkbox'><label for='data-ecfc2458-10ff-44a0-8583-f68cfc1fedd2' title='Show/Hide data repr'><svg class='icon xr-icon-database'><use xlink:href='#icon-database'></use></svg></label><div class='xr-var-attrs'><dl class='xr-attrs'></dl></div><div class='xr-var-data'><pre>array([114.022, 114.361, 114.122, 114.071])</pre></div></li><li class='xr-var-item'><div class='xr-var-name'><span>station_name</span></div><div class='xr-var-dims'>(record_id)</div><div class='xr-var-dtype'>object</div><div class='xr-var-preview xr-preview'>&#x27;cc&#x27; &#x27;klw&#x27; &#x27;kc&#x27; &#x27;mw&#x27;</div><input id='attrs-45d801b7-82b5-4b5d-a43c-83c3233c38f7' class='xr-var-attrs-in' type='checkbox' ><label for='attrs-45d801b7-82b5-4b5d-a43c-83c3233c38f7' title='Show/Hide attributes'><svg class='icon xr-icon-file-text2'><use xlink:href='#icon-file-text2'></use></svg></label><input id='data-0c4ec4b9-1174-4494-8ddb-e94d0742e8a5' class='xr-var-data-in' type='checkbox'><label for='data-0c4ec4b9-1174-4494-8ddb-e94d0742e8a5' title='Show/Hide data repr'><svg class='icon xr-icon-database'><use xlink:href='#icon-database'></use></svg></label><div class='xr-var-attrs'><dl class='xr-attrs'><dt><span>long_name :</span></dt><dd>Tide gauge data from Hong Kong Marine Department</dd></dl></div><div class='xr-var-data'><pre>array([&#x27;cc&#x27;, &#x27;klw&#x27;, &#x27;kc&#x27;, &#x27;mw&#x27;], dtype=object)</pre></div></li></ul></div></li><li class='xr-section-item'><input id='section-cfb1a1e2-d8ae-48b1-9486-f1e82a561596' class='xr-section-summary-in' type='checkbox' disabled ><label for='section-cfb1a1e2-d8ae-48b1-9486-f1e82a561596' class='xr-section-summary'  title='Expand/collapse section'>Attributes: <span>(0)</span></label><div class='xr-section-inline-details'></div><div class='xr-section-details'><dl class='xr-attrs'></dl></div></li></ul></div></div>"
     },
     "metadata": {},
     "execution_count": 87
    }
   ],
   "source": [
    "tgauge_cc = xr.open_dataset(path_md_cc)\n",
    "tgauge_klw = xr.open_dataset(path_md_klw)\n",
    "tgauge_kc = xr.open_dataset(path_md_kc)\n",
    "tgauge_mw = xr.open_dataset(path_md_mw)\n",
    "tgauge_qb = xr.open_dataset(path_obser_qb)\n",
    "tgauge_all = xr.concat([tgauge_cc, tgauge_klw, tgauge_kc, tgauge_mw], dim=\"record_id\")\n",
    "tgauge_all['station_name'].attrs['long_name'] = 'Tide gauge data from Hong Kong Marine Department'\n",
    "tgauge_all\n"
   ]
  },
  {
   "cell_type": "code",
   "execution_count": 86,
   "metadata": {},
   "outputs": [],
   "source": [
    "tgauge_all.to_netcdf(path=path_md_save)\n"
   ]
  },
  {
   "source": [
    "### For the tgauge station data from Hong Kong Observatory\n",
    "#### 1. Update the tgauge data from Observatory.\n",
    "#### 2. Merge all the tgauge data from Observatory (future)."
   ],
   "cell_type": "markdown",
   "metadata": {}
  },
  {
   "cell_type": "code",
   "execution_count": 89,
   "metadata": {},
   "outputs": [],
   "source": [
    "path_obser_qb = root_dir+'/data/tgauge_data/observatory_hk/tgauge_qb.nc'\n",
    "path_qb_save = root_dir+'/data/tgauge_data/observatory_hk/tgauge_qb_new.nc'\n",
    "tgauge_qb['station_name'].values = ['qb']\n",
    "tgauge_qb['station_name'].attrs['long_name'] = 'Quarry Bay from Hong Kong Observatory'\n",
    "tgauge_qb.to_netcdf(path=path_qb_save)\n"
   ]
  }
 ]
}