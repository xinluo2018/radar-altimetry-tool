{
 "metadata": {
  "language_info": {
   "codemirror_mode": {
    "name": "ipython",
    "version": 3
   },
   "file_extension": ".py",
   "mimetype": "text/x-python",
   "name": "python",
   "nbconvert_exporter": "python",
   "pygments_lexer": "ipython3",
   "version": "3.8.6-final"
  },
  "orig_nbformat": 2,
  "kernelspec": {
   "name": "python3",
   "display_name": "Python 3",
   "language": "python"
  }
 },
 "nbformat": 4,
 "nbformat_minor": 2,
 "cells": [
  {
   "cell_type": "code",
   "execution_count": 4,
   "metadata": {},
   "outputs": [],
   "source": [
    "import sys\n",
    "sys.path.append(\"../../utils\")\n",
    "import xarray as xr\n",
    "from s3l2_subset import s3l2_subset\n",
    "from get_filesPath import get_filesPath\n",
    "from tiff_io import readTiff\n",
    "import os"
   ]
  },
  {
   "cell_type": "code",
   "execution_count": 6,
   "metadata": {},
   "outputs": [
    {
     "output_type": "stream",
     "name": "stdout",
     "text": [
      "s3l2 files number: 9\n"
     ]
    }
   ],
   "source": [
    "root_dir = os.path.dirname(os.path.dirname(os.getcwd()))\n",
    "path_rsimg = root_dir +'/data/rs_image/greatbay_l8_img.tif'\n",
    "dir_s3l2 = root_dir+'/data/s3b-relative-orbit-309'\n",
    "files_path = get_filesPath(base=dir_s3l2, key_words='enhanced_measurement.nc')\n",
    "l8_img, im_geotrans,im_proj,im_row,im_col,im_bands = readTiff(path_rsimg)\n",
    "files_path = sorted(files_path)\n",
    "print('s3l2 files number:', len(files_path))\n"
   ]
  },
  {
   "cell_type": "code",
   "execution_count": 7,
   "metadata": {},
   "outputs": [
    {
     "output_type": "execute_result",
     "data": {
      "text/plain": [
       "[113.09987056427283, 21.699973497776398, 114.55002092742697, 23.00190183905082]"
      ]
     },
     "metadata": {},
     "execution_count": 7
    }
   ],
   "source": [
    "## region for subset \n",
    "lon_min,lat_max = im_geotrans[0], im_geotrans[3]\n",
    "lon_max,lat_min = lon_min+im_geotrans[1]*im_col,lat_max+im_geotrans[5]*im_row\n",
    "region_rsimg = [lon_min,lat_min,lon_max,lat_max]\n",
    "region_rsimg"
   ]
  },
  {
   "cell_type": "code",
   "execution_count": 9,
   "metadata": {},
   "outputs": [
    {
     "output_type": "stream",
     "name": "stdout",
     "text": [
      "/Users/luo/OneDrive/SAR-Altimetry/sentinel3-altimetry-l2/data/s3b-relative-orbit-309/S3B_SR_2_WAT____20200507T134141_20200507T142931_20200602T060821_2869_038_309______MAR_O_NT_004.SEN3/enhanced_measurement_subs.nc\n",
      "<ipython-input-9-9332984ab491>:9: SerializationWarning: saving variable lat_01 with floating point data as an integer dtype without any _FillValue to use for NaNs\n",
      "  s3l2_subs.to_netcdf(path=path_new)\n",
      "<ipython-input-9-9332984ab491>:9: SerializationWarning: saving variable lon_01 with floating point data as an integer dtype without any _FillValue to use for NaNs\n",
      "  s3l2_subs.to_netcdf(path=path_new)\n",
      "<ipython-input-9-9332984ab491>:9: SerializationWarning: saving variable lat_20_ku with floating point data as an integer dtype without any _FillValue to use for NaNs\n",
      "  s3l2_subs.to_netcdf(path=path_new)\n",
      "<ipython-input-9-9332984ab491>:9: SerializationWarning: saving variable lon_20_ku with floating point data as an integer dtype without any _FillValue to use for NaNs\n",
      "  s3l2_subs.to_netcdf(path=path_new)\n",
      "<ipython-input-9-9332984ab491>:9: SerializationWarning: saving variable lat_20_c with floating point data as an integer dtype without any _FillValue to use for NaNs\n",
      "  s3l2_subs.to_netcdf(path=path_new)\n",
      "<ipython-input-9-9332984ab491>:9: SerializationWarning: saving variable lon_20_c with floating point data as an integer dtype without any _FillValue to use for NaNs\n",
      "  s3l2_subs.to_netcdf(path=path_new)\n",
      "/Users/luo/OneDrive/SAR-Altimetry/sentinel3-altimetry-l2/data/s3b-relative-orbit-309/S3B_SR_2_WAT____20200603T134143_20200603T142933_20200629T055907_2870_039_309______MAR_O_NT_004.SEN3/enhanced_measurement_subs.nc\n",
      "/Users/luo/OneDrive/SAR-Altimetry/sentinel3-altimetry-l2/data/s3b-relative-orbit-309/S3B_SR_2_WAT____20200630T134138_20200630T142936_20200726T054854_2878_040_309______MAR_O_NT_004.SEN3/enhanced_measurement_subs.nc\n",
      "/Users/luo/OneDrive/SAR-Altimetry/sentinel3-altimetry-l2/data/s3b-relative-orbit-309/S3B_SR_2_WAT____20200727T134138_20200727T142936_20200822T055304_2878_041_309______MAR_O_NT_004.SEN3/enhanced_measurement_subs.nc\n",
      "/Users/luo/OneDrive/SAR-Altimetry/sentinel3-altimetry-l2/data/s3b-relative-orbit-309/S3B_SR_2_WAT____20200823T134139_20200823T142936_20200918T054354_2877_042_309______MAR_O_NT_004.SEN3/enhanced_measurement_subs.nc\n",
      "/Users/luo/OneDrive/SAR-Altimetry/sentinel3-altimetry-l2/data/s3b-relative-orbit-309/S3B_SR_2_WAT____20200919T134136_20200919T142934_20201015T054801_2878_043_309______MAR_O_NT_004.SEN3/enhanced_measurement_subs.nc\n",
      "/Users/luo/OneDrive/SAR-Altimetry/sentinel3-altimetry-l2/data/s3b-relative-orbit-309/S3B_SR_2_WAT____20201016T134135_20201016T142933_20201111T054855_2878_044_309______MAR_O_NT_004.SEN3/enhanced_measurement_subs.nc\n",
      "/Users/luo/OneDrive/SAR-Altimetry/sentinel3-altimetry-l2/data/s3b-relative-orbit-309/S3B_SR_2_WAT____20201112T134140_20201112T142938_20201208T055744_2878_045_309______MAR_O_NT_004.SEN3/enhanced_measurement_subs.nc\n",
      "/Users/luo/OneDrive/SAR-Altimetry/sentinel3-altimetry-l2/data/s3b-relative-orbit-309/S3B_SR_2_WAT____20201209T134139_20201209T142937_20210104T052922_2878_046_309______MAR_O_NT_004.SEN3/enhanced_measurement_subs.nc\n"
     ]
    }
   ],
   "source": [
    "for path_s3l2 in files_path:\n",
    "    s3l2 = xr.open_dataset(path_s3l2)\n",
    "    s3l2_subs = s3l2_subset(s3_l2=s3l2, region=region_rsimg)\n",
    "    ## path to save\n",
    "    dir_file = os.path.split(path_s3l2)[0]\n",
    "    name_file = os.path.split(path_s3l2)[1].split('.')[0]\n",
    "    path_new = os.path.join(dir_file, name_file+'_subs.nc')\n",
    "    print(path_new)\n",
    "    # s3l2_subs.to_netcdf(path=path_new)\n"
   ]
  },
  {
   "cell_type": "code",
   "execution_count": null,
   "metadata": {},
   "outputs": [],
   "source": [
    "\n",
    "\n"
   ]
  }
 ]
}