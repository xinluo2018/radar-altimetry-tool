{
 "metadata": {
  "language_info": {
   "codemirror_mode": {
    "name": "ipython",
    "version": 3
   },
   "file_extension": ".py",
   "mimetype": "text/x-python",
   "name": "python",
   "nbconvert_exporter": "python",
   "pygments_lexer": "ipython3",
   "version": "3.6.8-final"
  },
  "orig_nbformat": 2,
  "kernelspec": {
   "name": "python3",
   "display_name": "Python 3.6.8 64-bit ('.venv')",
   "metadata": {
    "interpreter": {
     "hash": "8624281dcc52d21856ca9b99061176bdc08c2e37eb43168cb9b7e0ffbb33c522"
    }
   }
  }
 },
 "nbformat": 4,
 "nbformat_minor": 2,
 "cells": [
  {
   "source": [
    "## Batching delete the specific files."
   ],
   "cell_type": "markdown",
   "metadata": {}
  },
  {
   "cell_type": "code",
   "execution_count": 1,
   "metadata": {},
   "outputs": [],
   "source": [
    "import sys\n",
    "sys.path.append(\"../utils\")\n",
    "from get_filesPath import get_filesPath"
   ]
  },
  {
   "cell_type": "code",
   "execution_count": 2,
   "metadata": {},
   "outputs": [
    {
     "output_type": "stream",
     "name": "stdout",
     "text": [
      "/Users/luo/OneDrive/SWOT/Code-algorithms/radar-altimetry-toolbox/test_data/s3a-relative-orbit-260&309\n/Users/luo/OneDrive/SWOT/Code-algorithms/radar-altimetry-toolbox/results\n"
     ]
    }
   ],
   "source": [
    "root_dir = os.path.dirname(os.getcwd())\n",
    "dir_s3l2 = root_dir+'/test_data/s3a-relative-orbit-260&309'\n",
    "dir_result = root_dir+'/results'\n",
    "print(dir_s3l2)\n",
    "print(dir_result)\n"
   ]
  },
  {
   "cell_type": "code",
   "execution_count": 3,
   "metadata": {},
   "outputs": [
    {
     "output_type": "stream",
     "name": "stdout",
     "text": [
      "s3l2 files number: 4\n"
     ]
    }
   ],
   "source": [
    "## get files path name\n",
    "files_path = get_filesPath(dir_result, key_words='result_final')\n",
    "files_path = sorted(files_path)\n",
    "print('s3l2 files number:', len(files_path))\n",
    "# files_path"
   ]
  },
  {
   "cell_type": "code",
   "execution_count": 5,
   "metadata": {},
   "outputs": [
    {
     "output_type": "stream",
     "name": "stdout",
     "text": [
      "Worning: no file to delete!\n"
     ]
    }
   ],
   "source": [
    "for i, file_path in enumerate(files_path):\n",
    "    if os.path.exists(file_path) == False:\n",
    "        print('Warning: no file to delete!')\n",
    "        break\n",
    "    else:\n",
    "        os.remove(file_path)\n",
    "        print(file_path)\n"
   ]
  },
  {
   "cell_type": "code",
   "execution_count": 4,
   "metadata": {},
   "outputs": [],
   "source": [
    "\n"
   ]
  }
 ]
}