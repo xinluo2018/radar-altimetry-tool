{
 "metadata": {
  "language_info": {
   "codemirror_mode": {
    "name": "ipython",
    "version": 3
   },
   "file_extension": ".py",
   "mimetype": "text/x-python",
   "name": "python",
   "nbconvert_exporter": "python",
   "pygments_lexer": "ipython3",
   "version": "3.6.8-final"
  },
  "orig_nbformat": 2,
  "kernelspec": {
   "name": "python3",
   "display_name": "Python 3.6.8 64-bit ('.venv')",
   "metadata": {
    "interpreter": {
     "hash": "9654b429154c78c08fe3351320c755f8dda4241fe3aa9922f42e0a53088b4f50"
    }
   }
  }
 },
 "nbformat": 4,
 "nbformat_minor": 2,
 "cells": [
  {
   "cell_type": "code",
   "execution_count": null,
   "metadata": {},
   "outputs": [],
   "source": [
    "import sys\n",
    "sys.path.append(\"../utils\")\n",
    "from get_filesPath import get_filesPath\n"
   ]
  },
  {
   "cell_type": "code",
   "execution_count": 1,
   "metadata": {},
   "outputs": [
    {
     "output_type": "stream",
     "name": "stdout",
     "text": [
      "/Users/luo/OneDrive/SAR-Altimetry/sentinel3-altimetry-l2/test_data/s3a-relative-orbit-260&309\n/Users/luo/OneDrive/SAR-Altimetry/sentinel3-altimetry-l2/results\n"
     ]
    }
   ],
   "source": [
    "root_dir = os.path.dirname(os.getcwd())\n",
    "dir_md_tgauge = root_dir+'/data/marine_department_hk/s3a-relative-orbit-260&309'\n",
    "dir_result = root_dir+'/results'\n",
    "print(dir_s3l2)\n",
    "print(dir_result)\n"
   ]
  },
  {
   "cell_type": "code",
   "execution_count": null,
   "metadata": {},
   "outputs": [],
   "source": [
    "from netCDF4 import Dataset\n",
    "import numpy as np\n",
    "import os\n",
    "\n",
    "PATH = '.'\n",
    "LL = np.loadtxt('%s/global_soils_default.txt' % PATH);\n",
    "LL = LL[:,2:4]\n",
    "OBS = np.loadtxt('%s/VIC_GRDC_Monthly_Climatology.txt' % PATH, delimiter=',', skiprows=1)\n",
    "\n",
    "# NC file setup\n",
    "root_grp = Dataset('vic_LHS_climatology.nc', 'w', format='NETCDF4')\n",
    "root_grp.description = 'Results from VIC 10K Latin Hypercube ensemble, 60-year simulation on Blue Waters'\n",
    "\n",
    "# dimensions\n",
    "root_grp.createDimension('lat', 180)\n",
    "root_grp.createDimension('lon', 360)\n",
    "root_grp.createDimension('month', 12)\n",
    "ensemble = root_grp.createDimension('ensemble', 10000)\n",
    "\n",
    "# variables\n",
    "latitudes = root_grp.createVariable('latitude', 'f4', ('lat',))\n",
    "longitudes = root_grp.createVariable('longitude', 'f4', ('lon',))\n",
    "vic_runoff = root_grp.createVariable('vic_runoff', 'f4', ('lat', 'lon', 'ensemble', 'month',), fill_value=-9999.0)\n",
    "obs_runoff = root_grp.createVariable('obs_runoff', 'f4', ('lat', 'lon', 'month'), fill_value=-9999.0)\n",
    "\n",
    "vic_runoff.units = 'mm/month'\n",
    "obs_runoff.units = 'mm/month'\n",
    "\n",
    "# set the variables we know first\n",
    "latitudes = np.arange(-90.5, 89.5, 1.0)\n",
    "longitudes = np.arange(0.5, 360.5, 1.0)\n",
    "cellsdone = 0\n",
    "\n",
    "for lati, lat in enumerate(latitudes):\n",
    "  for loni, lon in enumerate(longitudes):\n",
    "\n",
    "    # grab the index of the 0-15836 list of grid cells\n",
    "    i = np.where((np.floor(LL[:,0]) == np.floor(lat)) & (np.floor(LL[:,1]) == np.floor(lon)))\n",
    "\n",
    "    # if this is one of our land surface grid cells...\n",
    "    if(np.size(i) > 0):\n",
    "      current_obs = OBS[np.where((np.floor(OBS[:,0]) == np.floor(lat)) & (np.floor(OBS[:,1]) == np.floor(lon))), 2:15]\n",
    "      current_obs = np.squeeze(current_obs)\n",
    "\n",
    "      if(current_obs.size > 0):\n",
    "        obs_runoff[lati,loni,:] = current_obs\n",
    "\n",
    "      # keep values in memory until ready to write a big chunk to NC file\n",
    "      tempstore = np.zeros((len(ensemble), 12), float)\n",
    "\n",
    "      for filenum in xrange(0,200):\n",
    "\n",
    "        output_filename = '%s' % PATH + '/txt/file_' + '%d' % filenum + '/txt/hcube_lat_' + '%.6f' % LL[i,0] + '_long_' + '%.6f' % LL[i,1] + '.txt'\n",
    "      \n",
    "        if(os.path.isfile(output_filename)):\n",
    "          try:\n",
    "              output = np.loadtxt(output_filename)\n",
    "          except:\n",
    "              pass\n",
    "\n",
    "          # write the VIC output data\n",
    "          startix = filenum*50\n",
    "          tempstore[startix:(startix+output.shape[0]),:] = output # ensembles x months\n",
    "      \n",
    "      vic_runoff[lati,loni,:,:] = tempstore # write all ensembles to netcdf\n",
    "      cellsdone = cellsdone + 1\n",
    "      print cellsdone\n",
    "\n",
    "root_grp.close()"
   ]
  }
 ]
}