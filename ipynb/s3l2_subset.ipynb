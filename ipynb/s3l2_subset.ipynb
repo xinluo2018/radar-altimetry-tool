{
 "metadata": {
  "language_info": {
   "codemirror_mode": {
    "name": "ipython",
    "version": 3
   },
   "file_extension": ".py",
   "mimetype": "text/x-python",
   "name": "python",
   "nbconvert_exporter": "python",
   "pygments_lexer": "ipython3",
   "version": "3.8.6-final"
  },
  "orig_nbformat": 2,
  "kernelspec": {
   "name": "python3",
   "display_name": "Python 3",
   "language": "python"
  }
 },
 "nbformat": 4,
 "nbformat_minor": 2,
 "cells": [
  {
   "cell_type": "code",
   "execution_count": 1,
   "metadata": {},
   "outputs": [],
   "source": [
    "import sys\n",
    "sys.path.append(\"../../utils\")\n",
    "import xarray as xr\n",
    "from s3l2_subset import s3l2_subset\n",
    "from get_filesPath import get_filesPath\n",
    "from tiff_io import readTiff\n",
    "import os"
   ]
  },
  {
   "cell_type": "code",
   "execution_count": 2,
   "metadata": {},
   "outputs": [
    {
     "output_type": "stream",
     "name": "stdout",
     "text": [
      "s3l2 files number: 22\n"
     ]
    }
   ],
   "source": [
    "root_dir = os.path.dirname(os.path.dirname(os.getcwd()))\n",
    "path_rsimg = root_dir +'/data/rs_image/greatbay_l8_img.tif'\n",
    "dir_s3l2 = root_dir+'/data/s3a-relative-orbit-260'\n",
    "files_path = get_filesPath(base=dir_s3l2, key_words='enhanced_measurement.nc')\n",
    "l8_img, im_geotrans,im_proj,im_row,im_col,im_bands = readTiff(path_rsimg)\n",
    "files_path = sorted(files_path, key=lambda s: s[101:])\n",
    "print('s3l2 files number:', len(files_path))\n"
   ]
  },
  {
   "cell_type": "code",
   "execution_count": 13,
   "metadata": {},
   "outputs": [
    {
     "output_type": "execute_result",
     "data": {
      "text/plain": [
       "'20190104T022002_20190104T030421_20191224T215916_2659_020_260______MR1_R_NT_004.SEN3/enhanced_measurement.nc'"
      ]
     },
     "metadata": {},
     "execution_count": 13
    }
   ],
   "source": [
    "\n"
   ]
  },
  {
   "cell_type": "code",
   "execution_count": 3,
   "metadata": {},
   "outputs": [
    {
     "output_type": "execute_result",
     "data": {
      "text/plain": [
       "[113.09987056427283, 21.699973497776398, 114.55002092742697, 23.00190183905082]"
      ]
     },
     "metadata": {},
     "execution_count": 3
    }
   ],
   "source": [
    "## region for subset \n",
    "lon_min,lat_max = im_geotrans[0], im_geotrans[3]\n",
    "lon_max,lat_min = lon_min+im_geotrans[1]*im_col,lat_max+im_geotrans[5]*im_row\n",
    "region_rsimg = [lon_min,lat_min,lon_max,lat_max]\n",
    "region_rsimg"
   ]
  },
  {
   "cell_type": "code",
   "execution_count": 4,
   "metadata": {},
   "outputs": [
    {
     "output_type": "stream",
     "name": "stdout",
     "text": [
      "/Users/luo/OneDrive/SAR-Altimetry/sentinel3-altimetry-l2/data/s3b-relative-orbit-260/S3B_SR_2_WAT____20190104T022002_20190104T030421_20191224T215916_2659_020_260______MR1_R_NT_004.SEN3/enhanced_measurement_subs.nc\n",
      "<ipython-input-4-9332984ab491>:9: SerializationWarning: saving variable lat_01 with floating point data as an integer dtype without any _FillValue to use for NaNs\n",
      "  s3l2_subs.to_netcdf(path=path_new)\n",
      "<ipython-input-4-9332984ab491>:9: SerializationWarning: saving variable lon_01 with floating point data as an integer dtype without any _FillValue to use for NaNs\n",
      "  s3l2_subs.to_netcdf(path=path_new)\n",
      "<ipython-input-4-9332984ab491>:9: SerializationWarning: saving variable lat_20_ku with floating point data as an integer dtype without any _FillValue to use for NaNs\n",
      "  s3l2_subs.to_netcdf(path=path_new)\n",
      "<ipython-input-4-9332984ab491>:9: SerializationWarning: saving variable lon_20_ku with floating point data as an integer dtype without any _FillValue to use for NaNs\n",
      "  s3l2_subs.to_netcdf(path=path_new)\n",
      "<ipython-input-4-9332984ab491>:9: SerializationWarning: saving variable lat_20_c with floating point data as an integer dtype without any _FillValue to use for NaNs\n",
      "  s3l2_subs.to_netcdf(path=path_new)\n",
      "<ipython-input-4-9332984ab491>:9: SerializationWarning: saving variable lon_20_c with floating point data as an integer dtype without any _FillValue to use for NaNs\n",
      "  s3l2_subs.to_netcdf(path=path_new)\n",
      "/Users/luo/OneDrive/SAR-Altimetry/sentinel3-altimetry-l2/data/s3b-relative-orbit-260/S3B_SR_2_WAT____20190131T022003_20190131T030421_20191225T002858_2658_021_260______MR1_R_NT_004.SEN3/enhanced_measurement_subs.nc\n",
      "/Users/luo/OneDrive/SAR-Altimetry/sentinel3-altimetry-l2/data/s3b-relative-orbit-260/S3B_SR_2_WAT____20190227T022006_20190227T030423_20191225T030511_2657_022_260______MR1_R_NT_004.SEN3/enhanced_measurement_subs.nc\n",
      "/Users/luo/OneDrive/SAR-Altimetry/sentinel3-altimetry-l2/data/s3b-relative-orbit-260/S3B_SR_2_WAT____20190326T022009_20190326T030427_20191225T054447_2658_023_260______MR1_R_NT_004.SEN3/enhanced_measurement_subs.nc\n",
      "/Users/luo/OneDrive/SAR-Altimetry/sentinel3-altimetry-l2/data/s3b-relative-orbit-260/S3B_SR_2_WAT____20190422T022009_20190422T030428_20191225T081155_2659_024_260______MR1_R_NT_004.SEN3/enhanced_measurement_subs.nc\n",
      "/Users/luo/OneDrive/SAR-Altimetry/sentinel3-altimetry-l2/data/s3b-relative-orbit-260/S3B_SR_2_WAT____20190519T022007_20190519T030425_20191225T105158_2658_025_260______MR1_R_NT_004.SEN3/enhanced_measurement_subs.nc\n",
      "/Users/luo/OneDrive/SAR-Altimetry/sentinel3-altimetry-l2/data/s3b-relative-orbit-260/S3B_SR_2_WAT____20190615T022002_20190615T030420_20191225T131953_2658_026_260______MR1_R_NT_004.SEN3/enhanced_measurement_subs.nc\n",
      "/Users/luo/OneDrive/SAR-Altimetry/sentinel3-altimetry-l2/data/s3b-relative-orbit-260/S3B_SR_2_WAT____20190712T022004_20190712T030422_20200129T164917_2658_027_260______MR1_R_NT_004.SEN3/enhanced_measurement_subs.nc\n",
      "/Users/luo/OneDrive/SAR-Altimetry/sentinel3-altimetry-l2/data/s3b-relative-orbit-260/S3B_SR_2_WAT____20190808T022005_20190808T030423_20200129T204310_2658_028_260______MR1_R_NT_004.SEN3/enhanced_measurement_subs.nc\n",
      "/Users/luo/OneDrive/SAR-Altimetry/sentinel3-altimetry-l2/data/s3b-relative-orbit-260/S3B_SR_2_WAT____20190904T022004_20190904T030422_20200130T005648_2658_029_260______MR1_R_NT_004.SEN3/enhanced_measurement_subs.nc\n",
      "/Users/luo/OneDrive/SAR-Altimetry/sentinel3-altimetry-l2/data/s3b-relative-orbit-260/S3B_SR_2_WAT____20191001T022003_20191001T030421_20200211T034308_2658_030_260______MR1_R_NT_004.SEN3/enhanced_measurement_subs.nc\n",
      "/Users/luo/OneDrive/SAR-Altimetry/sentinel3-altimetry-l2/data/s3b-relative-orbit-260/S3B_SR_2_WAT____20191124T022005_20191124T030423_20200211T074320_2658_032_260______MR1_R_NT_004.SEN3/enhanced_measurement_subs.nc\n",
      "/Users/luo/OneDrive/SAR-Altimetry/sentinel3-altimetry-l2/data/s3b-relative-orbit-260/S3B_SR_2_WAT____20191221T022005_20191221T030423_20200211T093932_2658_033_260______MR1_R_NT_004.SEN3/enhanced_measurement_subs.nc\n",
      "/Users/luo/OneDrive/SAR-Altimetry/sentinel3-altimetry-l2/data/s3b-relative-orbit-260/S3B_SR_2_WAT____20200407T022006_20200407T030424_20200502T183413_2658_037_260______MAR_O_NT_004.SEN3/enhanced_measurement_subs.nc\n",
      "/Users/luo/OneDrive/SAR-Altimetry/sentinel3-altimetry-l2/data/s3b-relative-orbit-260/S3B_SR_2_WAT____20200531T022012_20200531T030431_20200625T180050_2659_039_260______MAR_O_NT_004.SEN3/enhanced_measurement_subs.nc\n",
      "/Users/luo/OneDrive/SAR-Altimetry/sentinel3-altimetry-l2/data/s3b-relative-orbit-260/S3B_SR_2_WAT____20200627T022016_20200627T030449_20200722T182956_2673_040_260______MAR_O_NT_004.SEN3/enhanced_measurement_subs.nc\n",
      "/Users/luo/OneDrive/SAR-Altimetry/sentinel3-altimetry-l2/data/s3b-relative-orbit-260/S3B_SR_2_WAT____20200724T022016_20200724T030450_20200818T182403_2674_041_260______MAR_O_NT_004.SEN3/enhanced_measurement_subs.nc\n",
      "/Users/luo/OneDrive/SAR-Altimetry/sentinel3-altimetry-l2/data/s3b-relative-orbit-260/S3B_SR_2_WAT____20200820T022016_20200820T030450_20200914T182952_2674_042_260______MAR_O_NT_004.SEN3/enhanced_measurement_subs.nc\n",
      "/Users/luo/OneDrive/SAR-Altimetry/sentinel3-altimetry-l2/data/s3b-relative-orbit-260/S3B_SR_2_WAT____20200916T022014_20200916T030448_20201011T182533_2674_043_260______MAR_O_NT_004.SEN3/enhanced_measurement_subs.nc\n",
      "/Users/luo/OneDrive/SAR-Altimetry/sentinel3-altimetry-l2/data/s3b-relative-orbit-260/S3B_SR_2_WAT____20201013T022012_20201013T030446_20201107T183559_2674_044_260______MAR_O_NT_004.SEN3/enhanced_measurement_subs.nc\n",
      "/Users/luo/OneDrive/SAR-Altimetry/sentinel3-altimetry-l2/data/s3b-relative-orbit-260/S3B_SR_2_WAT____20201109T022017_20201109T030451_20201204T184108_2674_045_260______MAR_O_NT_004.SEN3/enhanced_measurement_subs.nc\n",
      "/Users/luo/OneDrive/SAR-Altimetry/sentinel3-altimetry-l2/data/s3b-relative-orbit-260/S3B_SR_2_WAT____20201206T022017_20201206T030451_20201231T182817_2674_046_260______MAR_O_NT_004.SEN3/enhanced_measurement_subs.nc\n"
     ]
    }
   ],
   "source": [
    "for path_s3l2 in files_path:\n",
    "    s3l2 = xr.open_dataset(path_s3l2)\n",
    "    s3l2_subs = s3l2_subset(s3_l2=s3l2, region=region_rsimg)\n",
    "    ## path to save\n",
    "    dir_file = os.path.split(path_s3l2)[0]\n",
    "    name_file = os.path.split(path_s3l2)[1].split('.')[0]\n",
    "    path_new = os.path.join(dir_file, name_file+'_subs.nc')\n",
    "    print(path_new)\n",
    "    # s3l2_subs.to_netcdf(path=path_new)\n"
   ]
  },
  {
   "cell_type": "code",
   "execution_count": null,
   "metadata": {},
   "outputs": [],
   "source": [
    "\n",
    "\n"
   ]
  }
 ]
}