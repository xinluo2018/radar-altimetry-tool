{
 "cells": [
  {
   "cell_type": "code",
   "execution_count": 1,
   "metadata": {},
   "outputs": [],
   "source": [
    "import os\n",
    "root_proj = '/Users/luo/OneDrive/GitHub/sentinel3-altimetry-l2'\n",
    "os.chdir(root_proj)\n"
   ]
  },
  {
   "cell_type": "code",
   "execution_count": 2,
   "metadata": {},
   "outputs": [],
   "source": [
    "import xarray as xr\n",
    "from utils.s3l2.s3l2_subset import s3l2_subset\n",
    "from utils.get_filesPath import get_filesPath\n",
    "from utils.geotif_io import readTiff\n",
    "from utils.transform_xy import coor2coor\n",
    "import os\n",
    "import warnings\n",
    "warnings.filterwarnings('ignore')\n",
    "\n"
   ]
  },
  {
   "cell_type": "code",
   "execution_count": 3,
   "metadata": {},
   "outputs": [
    {
     "name": "stdout",
     "output_type": "stream",
     "text": [
      "s3l2 files number: 2\n"
     ]
    }
   ],
   "source": [
    "path_rsimg = 'data/rs_img/dianchi_s2_20200511.tif'\n",
    "dir_s3l2 = 'data/s3-altimetry/s3a-orbit-289'\n",
    "files_path = get_filesPath(base=dir_s3l2, key_words='enhanced_measurement.nc')\n",
    "s2_img, s2_img_info = readTiff(path_rsimg)\n",
    "files_path = sorted(files_path, key=lambda s: s[101:])\n",
    "print('s3l2 files number:', len(files_path))\n"
   ]
  },
  {
   "cell_type": "code",
   "execution_count": 4,
   "metadata": {},
   "outputs": [
    {
     "data": {
      "text/plain": [
       "[102.41013352041105, 102.9299487490951, 24.571787353195244, 25.128338224847997]"
      ]
     },
     "execution_count": 4,
     "metadata": {},
     "output_type": "execute_result"
    }
   ],
   "source": [
    "lon_min, lat_min = coor2coor(srs_from=s2_img_info['geosrs'], srs_to='4326', \\\n",
    "                            x=s2_img_info['geoextent'][0], y=s2_img_info['geoextent'][2])\n",
    "lon_max, lat_max = coor2coor(srs_from=s2_img_info['geosrs'], srs_to='4326', \\\n",
    "                            x=s2_img_info['geoextent'][1], y=s2_img_info['geoextent'][3])\n",
    "region_wgs84 = [lon_min, lon_max, lat_min, lat_max]\n",
    "region_wgs84\n",
    "\n"
   ]
  },
  {
   "cell_type": "code",
   "execution_count": 5,
   "metadata": {},
   "outputs": [
    {
     "name": "stdout",
     "output_type": "stream",
     "text": [
      "data/s3-altimetry/s3a-orbit-289/S3A_SR_2_LAN____20200523T030933_20200523T035741_20200617T203903_2888_058_289______LN3_O_NT_004.SEN3/enhanced_measurement_subs.nc\n",
      "data/s3-altimetry/s3a-orbit-289/S3A_SR_2_LAN____20200619T030711_20200619T035739_20200714T201953_3028_059_289______LN3_O_NT_004.SEN3/enhanced_measurement_subs.nc\n"
     ]
    }
   ],
   "source": [
    "for path_s3l2 in files_path:\n",
    "    s3l2 = xr.open_dataset(path_s3l2)\n",
    "    s3l2_subs = s3l2_subset(s3_l2=s3l2, region=region_wgs84)\n",
    "    ## path to save\n",
    "    dir_file = os.path.split(path_s3l2)[0]\n",
    "    name_file = os.path.split(path_s3l2)[1].split('.')[0]\n",
    "    path_new = os.path.join(dir_file, name_file+'_subs.nc')\n",
    "    print(path_new)\n",
    "    s3l2_subs.to_netcdf(path=path_new)\n"
   ]
  },
  {
   "cell_type": "code",
   "execution_count": null,
   "metadata": {},
   "outputs": [],
   "source": [
    "\n"
   ]
  }
 ],
 "metadata": {
  "kernelspec": {
   "display_name": "Python 3.6.13 ('venv')",
   "language": "python",
   "name": "python3"
  },
  "language_info": {
   "codemirror_mode": {
    "name": "ipython",
    "version": 3
   },
   "file_extension": ".py",
   "mimetype": "text/x-python",
   "name": "python",
   "nbconvert_exporter": "python",
   "pygments_lexer": "ipython3",
   "version": "3.6.13"
  },
  "orig_nbformat": 2,
  "vscode": {
   "interpreter": {
    "hash": "0c8129632e32e425cc033d1410b1507b5d568cf20bf2063eae0e316e8a209954"
   }
  }
 },
 "nbformat": 4,
 "nbformat_minor": 2
}
