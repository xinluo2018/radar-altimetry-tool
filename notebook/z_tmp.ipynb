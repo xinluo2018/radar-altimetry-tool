{
 "cells": [
  {
   "cell_type": "code",
   "execution_count": 2,
   "metadata": {},
   "outputs": [],
   "source": [
    "import h5py\n",
    "import numpy as np\n",
    "import xarray as xr\n",
    "from utils.geotif_io import readTiff\n",
    "from utils.imgShow import imgShow\n"
   ]
  },
  {
   "cell_type": "code",
   "execution_count": 3,
   "metadata": {},
   "outputs": [],
   "source": [
    "path='data/rs-img/yangzonghai_s2_20200511.tif'\n"
   ]
  },
  {
   "cell_type": "code",
   "execution_count": 4,
   "metadata": {},
   "outputs": [],
   "source": [
    "rs_img, rs_img_info = readTiff(path)\n"
   ]
  },
  {
   "cell_type": "code",
   "execution_count": 6,
   "metadata": {},
   "outputs": [
    {
     "data": {
      "text/plain": [
       "{'geoextent': (291820.0, 304200.0, 2748620.0, 2765420.0),\n",
       " 'geotrans': (291820.0, 20.0, 0.0, 2765420.0, 0.0, -20.0),\n",
       " 'geosrs': '32648',\n",
       " 'row': 840,\n",
       " 'col': 619,\n",
       " 'bands': 6}"
      ]
     },
     "execution_count": 6,
     "metadata": {},
     "output_type": "execute_result"
    }
   ],
   "source": [
    "rs_img_info\n",
    "\n"
   ]
  }
 ],
 "metadata": {
  "kernelspec": {
   "display_name": "Python 3.6.13 ('venv')",
   "language": "python",
   "name": "python3"
  },
  "language_info": {
   "codemirror_mode": {
    "name": "ipython",
    "version": 3
   },
   "file_extension": ".py",
   "mimetype": "text/x-python",
   "name": "python",
   "nbconvert_exporter": "python",
   "pygments_lexer": "ipython3",
   "version": "3.6.13"
  },
  "orig_nbformat": 2,
  "vscode": {
   "interpreter": {
    "hash": "0c8129632e32e425cc033d1410b1507b5d568cf20bf2063eae0e316e8a209954"
   }
  }
 },
 "nbformat": 4,
 "nbformat_minor": 2
}
